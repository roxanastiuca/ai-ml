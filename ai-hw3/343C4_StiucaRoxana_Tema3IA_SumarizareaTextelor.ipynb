{
 "cells": [
  {
   "cell_type": "markdown",
   "id": "8b979cfa",
   "metadata": {},
   "source": [
    "# Tema 3 IA - Sumarizarea documentelor\n",
    "- Roxana-Elena Stiuca, 343C4"
   ]
  },
  {
   "cell_type": "markdown",
   "id": "62231f2f",
   "metadata": {},
   "source": [
    "## Setup\n",
    "Bibloteci necesare:\n",
    "- spacy + python -m spacy download en_core_web_sm"
   ]
  },
  {
   "cell_type": "code",
   "execution_count": 215,
   "id": "092696a2",
   "metadata": {},
   "outputs": [],
   "source": [
    "# !pip install -U pip setuptools wheel\n",
    "# !pip install -U spacy\n",
    "# !pip install matplotlib\n",
    "\n",
    "import zipfile\n",
    "import matplotlib.pyplot as plt\n",
    "from spacy import load as spacy_load\n",
    "from random import shuffle\n",
    "from collections import Counter, defaultdict, namedtuple\n",
    "from math import log\n",
    "from itertools import chain"
   ]
  },
  {
   "cell_type": "markdown",
   "id": "133f6824",
   "metadata": {},
   "source": [
    "## Cerinta 1\n",
    "### Setul de date\n",
    "Incarcam in memorie setul de date BBC News Summaries (e nevoie de arhiva news.zip in directorul curent)."
   ]
  },
  {
   "cell_type": "code",
   "execution_count": 164,
   "id": "23797624",
   "metadata": {},
   "outputs": [
    {
     "name": "stdout",
     "output_type": "stream",
     "text": [
      "417\n"
     ]
    }
   ],
   "source": [
    "BUSINESS, ENTERTAINMENT, POLITICS, SPORT, TECH = list(range(5))\n",
    "CATEGORIES = ['business', 'entertainment', 'politics', 'sport', 'tech']\n",
    "\n",
    "news = []\n",
    "summaries = []\n",
    "zipFile = zipfile.ZipFile(\"news.zip\")\n",
    "\n",
    "for idx_category in range(len(CATEGORIES)):\n",
    "    news.append([f for f in zipFile.namelist() if 'bbc news summary/BBC News Summary/News Articles/' + CATEGORIES[idx_category] in f])\n",
    "    news[idx_category].sort()\n",
    "    summaries.append([f for f in zipFile.namelist() if 'bbc news summary/BBC News Summary/Summaries/' + CATEGORIES[idx_category] in f])\n",
    "    summaries[idx_category].sort()\n",
    "    \n",
    "# Test:\n",
    "print(len(news[POLITICS]))"
   ]
  },
  {
   "cell_type": "markdown",
   "id": "1bba43f5",
   "metadata": {},
   "source": [
    "### Tokenizare, eliminarea cuvintelor neinformative si lematizare\n",
    "Aplicam tokenizarea asupra fisierelor. Sunt impartite pe propozitii, iar fiecare propozitie este impartita la randul sau in tokens. Prin parametrii functiei putem controla daca dorim ca tokens sa fie cuvinte, bigrame sau 4-grame, daca se vor elimina cuvintele neinformative si daca se aplica lematizarea."
   ]
  },
  {
   "cell_type": "code",
   "execution_count": 165,
   "id": "2f3ae7d4",
   "metadata": {},
   "outputs": [],
   "source": [
    "nlp = spacy_load(\"en_core_web_sm\")\n",
    "nlp.add_pipe('sentencizer')\n",
    "\n",
    "def get_tokens(sent, elim_stop=True, lemma=True):\n",
    "    words = []\n",
    "    for word in sent:\n",
    "        if word.is_space or word.is_punct:\n",
    "            continue\n",
    "        if elim_stop and word.is_stop:\n",
    "            continue\n",
    "        if lemma:\n",
    "            words.append(word.lemma_)\n",
    "        else:\n",
    "            words.append(word.text)\n",
    "    return words\n",
    "\n",
    "def make_ngrams(words, ngram):\n",
    "    if len(words) == 0:\n",
    "        return []\n",
    "    if ngram == 1:\n",
    "        return words\n",
    "    elif ngram == 2:\n",
    "        # make bigrams\n",
    "        bigrams = []\n",
    "        first_word = words[0]\n",
    "        for second_word in words[1:]:\n",
    "            bigrams.append(first_word + \":\" + second_word)\n",
    "            first_word = second_word\n",
    "        return bigrams\n",
    "    elif ngram == 4:\n",
    "        # make 4-grams\n",
    "        ngrams = []\n",
    "        for i in range(len(words) - 3):\n",
    "            ngrams.append(words[i] + \":\" + words[i+1] + \":\" + words[i+2] + \":\" + words[i+3])\n",
    "        return ngrams\n",
    "            \n",
    "def process_file(filepath, ngram=1, elim_stop=True, lemma=True):\n",
    "    \"\"\"\n",
    "    Yield one sentence at a time as a tuple (original text, array of tokens/ngrams).\n",
    "    \"\"\"\n",
    "    with zipFile.open(filepath) as f:\n",
    "        for line in f.readlines():\n",
    "            if len(line) <= 1:\n",
    "                continue\n",
    "            text = line.decode(\"utf-8\", \"ignore\")\n",
    "            doc = nlp(text)\n",
    "            for sent in doc.sents:\n",
    "                words = get_tokens(sent, elim_stop, lemma)\n",
    "                ngrams = make_ngrams(words, ngram)\n",
    "                if len(ngrams) > 0:\n",
    "                    yield sent.text, ngrams"
   ]
  },
  {
   "cell_type": "markdown",
   "id": "31a5d573",
   "metadata": {},
   "source": [
    "## Cerinta 2 - Naive Bayes"
   ]
  },
  {
   "cell_type": "markdown",
   "id": "52e61bca",
   "metadata": {},
   "source": [
    "### Impartirea datelor in cele de antrenare si cele de test"
   ]
  },
  {
   "cell_type": "code",
   "execution_count": 166,
   "id": "5d07142a",
   "metadata": {},
   "outputs": [
    {
     "name": "stdout",
     "output_type": "stream",
     "text": [
      "312   312\n"
     ]
    }
   ],
   "source": [
    "news_train = []\n",
    "summaries_train = []\n",
    "news_test = []\n",
    "summaries_test = []\n",
    "\n",
    "for idx in range(len(CATEGORIES)):\n",
    "    data = list(zip(news[idx], summaries[idx]))\n",
    "    shuffle(data)\n",
    "    news[idx], summaries[idx] = zip(*data)\n",
    "    \n",
    "    train_no = int(.75 * len(news[idx]))\n",
    "    news_train.append(news[idx][:train_no])\n",
    "    summaries_train.append(summaries[idx][:train_no])\n",
    "    news_test.append(news[idx][train_no:])\n",
    "    summaries_test.append(summaries[idx][train_no:])\n",
    "    \n",
    "# Test:\n",
    "print(len(news_train[POLITICS]), \" \", len(summaries_train[POLITICS]))"
   ]
  },
  {
   "cell_type": "markdown",
   "id": "e2f4ee84",
   "metadata": {},
   "source": [
    "### Antrenare\n",
    "Construim vocabularul si calculam parametrii necesari predictiei."
   ]
  },
  {
   "cell_type": "code",
   "execution_count": 167,
   "id": "ca070f61",
   "metadata": {},
   "outputs": [],
   "source": [
    "def count_words(news, summaries, ngrams=1, elim_stop=True, lemma=True):\n",
    "    \"\"\"\n",
    "    Returns:\n",
    "    - dictionary {word: number of apparitions of word in summaries},\n",
    "    - dictionary {word: number of apparitions of word in news, but not in summary},\n",
    "    - total number of words in summaries,\n",
    "    - total number of words which appear in text, but not in summary,\n",
    "    - total number of sentences in news,\n",
    "    - total number of sentences in summaries\n",
    "    \"\"\"\n",
    "    words_in_summaries = 0\n",
    "    freq_words_summaries = Counter()\n",
    "    sent_in_summaries = 0\n",
    "    \n",
    "    for summary in summaries:\n",
    "        for sent, words in process_file(summary, ngrams, elim_stop, lemma):\n",
    "            sent_in_summaries += 1\n",
    "            words_in_summaries += len(words)\n",
    "            freq_words_summaries += Counter(words)\n",
    "    \n",
    "    words_no = 0\n",
    "    freq_words = Counter()\n",
    "    sent_no = 0\n",
    "    \n",
    "    for doc in news:\n",
    "        for sent, words in process_file(doc, ngrams, elim_stop, lemma):\n",
    "            sent_no += 1\n",
    "            words_no += len(words)\n",
    "            freq_words += Counter(words)\n",
    "            \n",
    "    words_not_in_summaries = words_no - words_in_summaries\n",
    "    freq_words_not = Counter()\n",
    "    \n",
    "    for word in freq_words.keys():\n",
    "        freq_words_not[word] = max(0, freq_words[word] - freq_words_summaries[word])\n",
    "\n",
    "    return (\n",
    "        words_in_summaries, freq_words_summaries, sent_in_summaries,\n",
    "        words_not_in_summaries, freq_words_not, sent_no\n",
    "    )"
   ]
  },
  {
   "cell_type": "markdown",
   "id": "77a865ff",
   "metadata": {},
   "source": [
    "### Sumarizarea unui text pe baza parametrilor calculati"
   ]
  },
  {
   "cell_type": "code",
   "execution_count": 168,
   "id": "d128aa34",
   "metadata": {},
   "outputs": [],
   "source": [
    "def summarize_bayes(params, filepath, ngrams=1, elim_stop=True, lemma=True, alpha=1):\n",
    "    \"\"\"\n",
    "    Return summarization for file, given model's parameters.\n",
    "    Also, return a processed summarization (where the text is divided into sentences\n",
    "    and tokens) which makes evaluation more efficient.\n",
    "    \"\"\"\n",
    "    (words_in, freq_in, sent_in, words_not, freq_not, sent_total) = params\n",
    "    summary = []\n",
    "    processed_summary = []\n",
    "    log_Pc = log(float(sent_in) / float(sent_total))\n",
    "    voc_len = len(set(freq_in.keys()) | set(freq_not.keys()))\n",
    "    \n",
    "    for orig_sent, sent in process_file(filepath, ngrams, elim_stop, lemma):\n",
    "        # Decide if sent should be in summary or not.\n",
    "        log_in = log_Pc\n",
    "        log_not = log_Pc\n",
    "        \n",
    "        for word in sent:\n",
    "            aux1 = freq_in.get(word, 0)\n",
    "            aux2 = freq_not.get(word, 0)\n",
    "            \n",
    "            log_in += log((aux1 + alpha) / (words_in + alpha * voc_len))\n",
    "            log_not += log((aux2 + alpha) / (words_not + alpha * voc_len))\n",
    "        \n",
    "        if log_in > log_not:\n",
    "            summary.append(orig_sent)\n",
    "            processed_summary.append(sent)\n",
    "    \n",
    "    return (\"\".join(summary), processed_summary)"
   ]
  },
  {
   "cell_type": "markdown",
   "id": "a5f22886",
   "metadata": {},
   "source": [
    "### Evaluarea performantelor"
   ]
  },
  {
   "cell_type": "code",
   "execution_count": 270,
   "id": "db783c32",
   "metadata": {},
   "outputs": [],
   "source": [
    "def evaluate(params, summarize_func, ngrams=1, elim_stop=True, lemma=True, categories=[0,1,2,3,4]):\n",
    "    scores = []\n",
    "    \n",
    "    for idx in range(len(CATEGORIES)):\n",
    "        if idx not in categories:\n",
    "            continue\n",
    "\n",
    "        common_no = 0    # nb. of common n-grams\n",
    "        predicted_no = 0 # nb. of n-grams in predicted summary\n",
    "        actual_no = 0    # nb. of n-grams in actual summary\n",
    "        \n",
    "        for news, summary in zip(news_test[idx], summaries_test[idx]):\n",
    "            _, summary_sentences = zip(*list(process_file(summary, ngrams, elim_stop, lemma)))\n",
    "            _, predicted_summary_sentences = summarize_func(params[idx], news, ngrams, elim_stop, lemma)\n",
    "            \n",
    "            freq_actual = Counter(chain(*summary_sentences))\n",
    "            freq_predicted = Counter(chain(*predicted_summary_sentences))\n",
    "            \n",
    "            for ngram in (set(freq_actual.keys()) | set(freq_predicted.keys())):\n",
    "                aux1 = freq_actual.get(ngram, 0)\n",
    "                aux2 = freq_predicted.get(ngram, 0)\n",
    "                common_no += min(aux1, aux2)\n",
    "                predicted_no += aux1\n",
    "                actual_no += aux2\n",
    "        \n",
    "        blue = common_no / predicted_no\n",
    "        rouge = common_no / actual_no\n",
    "        scores.append((blue, rouge))\n",
    "    \n",
    "    if len(categories) > 1:\n",
    "        # Compute weighted average for scores\n",
    "        docs_no = sum(len(news_test[i]) for i in range(len(CATEGORIES)))\n",
    "        blue = sum([scores[i][0] * len(news_test[i]) for i in range(len(CATEGORIES))]) / docs_no\n",
    "        rouge = sum([scores[i][1] * len(news_test[i]) for i in range(len(CATEGORIES))]) / docs_no\n",
    "    else:\n",
    "        blue = scores[0][0]\n",
    "        rouge = scores[0][1]\n",
    "    \n",
    "    return (round(blue, 2), round(rouge, 2))"
   ]
  },
  {
   "cell_type": "markdown",
   "id": "6ed8f400",
   "metadata": {},
   "source": [
    "## Cerinta 2 - Rezultate pentru Naive Bayes"
   ]
  },
  {
   "cell_type": "code",
   "execution_count": 170,
   "id": "daca6d42",
   "metadata": {},
   "outputs": [],
   "source": [
    "def train_and_evaluate_bayes(ngrams, elim_stop, lemma):\n",
    "    training_results = []\n",
    "    for idx in range(len(CATEGORIES)):\n",
    "        training_results.append(count_words(news_train[idx], summaries_train[idx], ngrams, elim_stop, lemma))\n",
    "    \n",
    "    return evaluate(training_results, summarize_bayes, ngrams, elim_stop, lemma)\n",
    "\n",
    "Result = namedtuple(\"Result\", [\"model\", \"blue\", \"rouge\"])\n",
    "results = []"
   ]
  },
  {
   "cell_type": "markdown",
   "id": "4a8c816e",
   "metadata": {},
   "source": [
    "### Evaluare unigrame"
   ]
  },
  {
   "cell_type": "code",
   "execution_count": 171,
   "id": "6918e367",
   "metadata": {},
   "outputs": [],
   "source": [
    "results.append(Result(\"NB pentru unigrame\", *train_and_evaluate_bayes(1, False, False)))\n",
    "results.append(Result(\"NB pentru unigrame, fara stop words\", *train_and_evaluate_bayes(1, True, False)))\n",
    "results.append(Result(\"NB pentru unigrame, fara stop words, cu lematizare\", *train_and_evaluate_bayes(1, True, True)))"
   ]
  },
  {
   "cell_type": "markdown",
   "id": "6271756a",
   "metadata": {},
   "source": [
    "### Evaluare bigrame"
   ]
  },
  {
   "cell_type": "code",
   "execution_count": 172,
   "id": "c331833e",
   "metadata": {},
   "outputs": [],
   "source": [
    "results.append(Result(\"NB pentru bigrame\", *train_and_evaluate_bayes(2, False, False)))\n",
    "results.append(Result(\"NB pentru bigrame, fara stop words\", *train_and_evaluate_bayes(2, True, False)))\n",
    "results.append(Result(\"NB pentru bigrame, fara stop words, cu lematizare\", *train_and_evaluate_bayes(2, True, True)))"
   ]
  },
  {
   "cell_type": "markdown",
   "id": "16758eff",
   "metadata": {},
   "source": [
    "### Evaluare 4-grame"
   ]
  },
  {
   "cell_type": "code",
   "execution_count": 173,
   "id": "4a37935e",
   "metadata": {},
   "outputs": [],
   "source": [
    "results.append(Result(\"NB pentru 4grame\", *train_and_evaluate_bayes(4, False, False)))\n",
    "results.append(Result(\"NB pentru 4grame, fara stop words\", *train_and_evaluate_bayes(4, True, False)))\n",
    "results.append(Result(\"NB pentru 4grame, fara stop words, cu lematizare\", *train_and_evaluate_bayes(4, True, True)))"
   ]
  },
  {
   "cell_type": "code",
   "execution_count": 174,
   "id": "5926b847",
   "metadata": {},
   "outputs": [
    {
     "name": "stdout",
     "output_type": "stream",
     "text": [
      "Result(model='NB pentru unigrame', blue=0.62, rouge=0.66)\n",
      "Result(model='NB pentru unigrame, fara stop words', blue=0.59, rouge=0.6)\n",
      "Result(model='NB pentru unigrame, fara stop words, cu lematizare', blue=0.57, rouge=0.62)\n",
      "Result(model='NB pentru bigrame', blue=0.69, rouge=0.55)\n",
      "Result(model='NB pentru bigrame, fara stop words', blue=0.74, rouge=0.51)\n",
      "Result(model='NB pentru bigrame, fara stop words, cu lematizare', blue=0.72, rouge=0.51)\n",
      "Result(model='NB pentru 4grame', blue=0.89, rouge=0.48)\n",
      "Result(model='NB pentru 4grame, fara stop words', blue=0.74, rouge=0.55)\n",
      "Result(model='NB pentru 4grame, fara stop words, cu lematizare', blue=0.74, rouge=0.55)\n"
     ]
    }
   ],
   "source": [
    "for r in results:\n",
    "    print(r)"
   ]
  },
  {
   "cell_type": "markdown",
   "id": "21a05c1b",
   "metadata": {},
   "source": [
    "## Cerinta 3 - TF-IDF"
   ]
  },
  {
   "cell_type": "code",
   "execution_count": 175,
   "id": "5c182bd9",
   "metadata": {},
   "outputs": [],
   "source": [
    "def get_tokens_tfidf(sent, only_subst=True):\n",
    "    words = []\n",
    "    for word in sent:\n",
    "        if word.is_space or word.is_punct or word.is_stop:\n",
    "            continue\n",
    "        if only_subst and word.tag_ not in ['NN', 'NNP', 'NNS']:\n",
    "            continue\n",
    "        words.append(word.lemma_)\n",
    "    return words\n",
    "\n",
    "def make_ngrams_tfidf(words, ngram):\n",
    "    if len(words) == 0:\n",
    "        return []\n",
    "    if ngram == 1:\n",
    "        return words\n",
    "    elif ngram == 2:\n",
    "        # make bigrams\n",
    "        bigrams = []\n",
    "        first_word = words[0]\n",
    "        for second_word in words[1:]:\n",
    "            bigrams.append(first_word + \":\" + second_word)\n",
    "            first_word = second_word\n",
    "        return bigrams\n",
    "    elif ngram == 4:\n",
    "        # make 4-grams\n",
    "        ngrams = []\n",
    "        for i in range(len(words) - 3):\n",
    "            ngrams.append(words[i] + \":\" + words[i+1] + \":\" + words[i+2] + \":\" + words[i+3])\n",
    "        return ngrams\n",
    "            \n",
    "def process_file_tfidf(filepath, ngram=1, only_subst=True):\n",
    "    \"\"\"\n",
    "    Yield one sentence at a time as a tuple (original text, array of tokens/ngrams).\n",
    "    \"\"\"\n",
    "    with zipFile.open(filepath) as f:\n",
    "        for line in f.readlines():\n",
    "            if len(line) <= 1:\n",
    "                continue\n",
    "            text = line.decode(\"utf-8\", \"ignore\")\n",
    "            doc = nlp(text)\n",
    "            for sent in doc.sents:\n",
    "                words = get_tokens_tfidf(sent, only_subst)\n",
    "                ngrams = make_ngrams_tfidf(words, ngram)\n",
    "                if len(ngrams) > 0:\n",
    "                    yield sent.text, ngrams"
   ]
  },
  {
   "cell_type": "markdown",
   "id": "37299f96",
   "metadata": {},
   "source": [
    "### Antrenare\n",
    "Construim vocabularul si calculam parametrii necesari predictiei (scorurile tfidf ale fiecarui token/ngram)."
   ]
  },
  {
   "cell_type": "code",
   "execution_count": 193,
   "id": "ed6bf00f",
   "metadata": {},
   "outputs": [],
   "source": [
    "def compute_scores(news, ngrams=1, only_subst=True):\n",
    "    \"\"\"\n",
    "    Returns:\n",
    "    - dictionary {word: tfidf score}\n",
    "    \"\"\"\n",
    "    tf = Counter() # dictionary {word: number of appartions in all documents}\n",
    "    idf = defaultdict(int) # dictionary {word: number of documents it appears in}\n",
    "    \n",
    "    for doc in news:\n",
    "        _, sent = zip(*list(process_file_tfidf(doc, ngrams, only_subst)))\n",
    "        words = chain(*sent)\n",
    "        tf += Counter(words)\n",
    "        for word in tf.keys():\n",
    "            idf[word] += 1\n",
    "            \n",
    "    tfidf = {}\n",
    "    \n",
    "    for word, tf_score in tf.items():\n",
    "        tfidf[word] = tf_score * log(len(news) / idf[word])\n",
    "        \n",
    "    return tfidf"
   ]
  },
  {
   "cell_type": "markdown",
   "id": "91d6aff1",
   "metadata": {},
   "source": [
    "### Sumarizarea unui text pe baza parametrilor calculati"
   ]
  },
  {
   "cell_type": "code",
   "execution_count": null,
   "id": "886dfac2",
   "metadata": {},
   "outputs": [],
   "source": [
    "def normalization(a):\n",
    "    minimum = min(a)\n",
    "    maximum = max(a)\n",
    "    if minimum == maximum:\n",
    "        minimum = 0\n",
    "    if maximum == 0:\n",
    "        return a\n",
    "    return [(float(i)-minimum)/(maximum-minimum) for i in a]\n",
    "\n",
    "# Weights for score computing:\n",
    "param_title = 0.1\n",
    "param_position = 0.1\n",
    "\n",
    "def summarize_tfidf(\n",
    "    scores, filepath,\n",
    "    ngrams=1, only_subst=True, use_title=True, weight_position=True\n",
    "):\n",
    "    \"\"\"\n",
    "    Return summarization for file, given TFIDF scores for each word/ngram.\n",
    "    Also, return a processed summarization (where the text is divided into sentences\n",
    "    and tokens) which makes evaluation more efficient.\n",
    "    \"\"\"\n",
    "    sent_scores = []\n",
    "    title_scores = []\n",
    "    position_scores = []\n",
    "    \n",
    "    sentences = list(process_file_tfidf(filepath, ngrams, only_subst))\n",
    "    title = set(sentences[0][1])\n",
    "    \n",
    "    for idx, (orig_sent, sent) in enumerate(sentences):\n",
    "        current_score = 0.0\n",
    "        words_in_title = 0\n",
    "        for word in sent:\n",
    "            current_score += scores.get(word, 0.0)\n",
    "            if use_title and word in title:\n",
    "                words_in_title += 1\n",
    "        \n",
    "        sent_scores.append(current_score)\n",
    "        title_scores.append(words_in_title / len(title))\n",
    "        position_scores.append(idx / len(sentences))\n",
    "        \n",
    "    # Normalize score array\n",
    "    sent_scores = normalization(sent_scores)\n",
    "    \n",
    "    # Add scores\n",
    "    if use_title or weight_position:\n",
    "        for idx in range(len(sent_scores)):\n",
    "            if use_title:\n",
    "                sent_scores[idx] += param_title * title_scores[idx]\n",
    "            if weight_position:\n",
    "                sent_scores[idx] += param_position * position_scores[idx]\n",
    "        \n",
    "    # Choose first k sentences (k = 30% of all sentences) / 20%/3\n",
    "#     k = int(.3 * len(sentences))\n",
    "    k = max(3, int(.2 * len(sentences)))\n",
    "    \n",
    "    aux = sent_scores.copy()\n",
    "    aux.sort()\n",
    "    kth_max_score = aux[-k] if len(aux) > k else aux[0]\n",
    "#     if kth_max_score < 0.5: # folosirea unui scor minim\n",
    "#         kth_max_score = 0.5\n",
    "    \n",
    "    summary = []\n",
    "    processed_summary = []\n",
    "\n",
    "    for idx in range(1, len(sentences)): # imbunatatire 2\n",
    "#     for idx in range(len(sentences)):\n",
    "        if sent_scores[idx] >= kth_max_score:\n",
    "            summary.append(sentences[idx][0])\n",
    "            processed_summary.append(sentences[idx][1])\n",
    "            \n",
    "    return (\"\".join(summary), processed_summary)"
   ]
  },
  {
   "cell_type": "markdown",
   "id": "bcdcbcfb",
   "metadata": {},
   "source": [
    "### Evaluarea performantelor"
   ]
  },
  {
   "cell_type": "code",
   "execution_count": 294,
   "id": "6ddc89b8",
   "metadata": {},
   "outputs": [],
   "source": [
    "def evaluate_tfidf(\n",
    "    params, summarize_func,\n",
    "    ngrams=1, only_subst=True, use_title=True, weight_position=True,\n",
    "    categories=[0,1,2,3,4]\n",
    "):\n",
    "    scores = []\n",
    "    \n",
    "    for idx in range(len(CATEGORIES)):\n",
    "        if idx not in categories:\n",
    "            continue\n",
    "            \n",
    "        common_no = 0    # nb. of common n-grams\n",
    "        predicted_no = 0 # nb. of n-grams in predicted summary\n",
    "        actual_no = 0    # nb. of n-grams in actual summary\n",
    "        \n",
    "        for news, summary in zip(news_test[idx], summaries_test[idx]):\n",
    "            tmp, summary_sentences = zip(*list(process_file_tfidf(summary, ngrams, only_subst)))\n",
    "            tmp2, predicted_summary_sentences = summarize_func(params[idx], news, ngrams, only_subst, use_title, weight_position)\n",
    "            \n",
    "            freq_actual = Counter(chain(*summary_sentences))\n",
    "            freq_predicted = Counter(chain(*predicted_summary_sentences))\n",
    "            \n",
    "            for ngram in (set(freq_actual.keys()) | set(freq_predicted.keys())):\n",
    "                aux_actual = freq_actual.get(ngram, 0)\n",
    "                aux_predicted = freq_predicted.get(ngram, 0)\n",
    "\n",
    "                common_no += min(aux_actual, aux_predicted)\n",
    "                predicted_no += aux_predicted\n",
    "                actual_no += aux_actual\n",
    "                \n",
    "        blue = common_no / predicted_no\n",
    "        rouge = common_no / actual_no\n",
    "        scores.append((blue, rouge))\n",
    "    \n",
    "    if len(categories) > 1:\n",
    "        # Compute weighted average for scores\n",
    "        docs_no = sum(len(news_test[i]) for i in range(len(CATEGORIES)))\n",
    "        blue = sum([scores[i][0] * len(news_test[i]) for i in range(len(CATEGORIES))]) / docs_no\n",
    "        rouge = sum([scores[i][1] * len(news_test[i]) for i in range(len(CATEGORIES))]) / docs_no\n",
    "    else:\n",
    "        blue = scores[0][0]\n",
    "        rouge = scores[0][1]\n",
    "    \n",
    "    return (round(blue, 2), round(rouge, 2))"
   ]
  },
  {
   "cell_type": "markdown",
   "id": "b8344552",
   "metadata": {},
   "source": [
    "## Cerinta 3 - Rezultate pentru TF-IDF"
   ]
  },
  {
   "cell_type": "code",
   "execution_count": 259,
   "id": "b4071a71",
   "metadata": {},
   "outputs": [],
   "source": [
    "def train_and_evaluate_tfidf(ngrams, only_subst, use_title, weight_position):\n",
    "    training_results = []\n",
    "    for idx in range(len(CATEGORIES)):\n",
    "        training_results.append(compute_scores(news_train[idx], ngrams, only_subst))\n",
    "    \n",
    "    return evaluate_tfidf(training_results, summarize_tfidf, ngrams, only_subst, use_title, weight_position)"
   ]
  },
  {
   "cell_type": "markdown",
   "id": "92a85ffb",
   "metadata": {},
   "source": [
    "### Evaluare unigrame"
   ]
  },
  {
   "cell_type": "code",
   "execution_count": 197,
   "id": "f9007643",
   "metadata": {},
   "outputs": [],
   "source": [
    "results.append(Result(\"TF-IDF pentru unigrame\", *train_and_evaluate_tfidf(1, False, False, False)))\n",
    "results.append(Result(\"TF-IDF pentru unigrame, doar substantive\", *train_and_evaluate_tfidf(1, True, False, False)))\n",
    "results.append(Result(\"TF-IDF pentru unigrame, doar substantive, similaritate cu titlu\",\n",
    "                      *train_and_evaluate_tfidf(1, True, True, False)))\n",
    "results.append(Result(\"TF-IDF pentru unigrame, doar substantive, similaritate cu titlu, pozitia in text\",\n",
    "                      *train_and_evaluate_tfidf(1, True, True, True)))"
   ]
  },
  {
   "cell_type": "markdown",
   "id": "d8644ae4",
   "metadata": {},
   "source": [
    "### Evaluare bigrame"
   ]
  },
  {
   "cell_type": "code",
   "execution_count": 199,
   "id": "8a082835",
   "metadata": {},
   "outputs": [],
   "source": [
    "results.append(Result(\"TF-IDF pentru bigrame\", *train_and_evaluate_tfidf(2, False, False, False)))\n",
    "results.append(Result(\"TF-IDF pentru bigrame, doar substantive\", *train_and_evaluate_tfidf(2, True, False, False)))\n",
    "results.append(Result(\"TF-IDF pentru bigrame, doar substantive, similaritate cu titlu\",\n",
    "                      *train_and_evaluate_tfidf(2, True, True, False)))\n",
    "results.append(Result(\"TF-IDF pentru bigrame, doar substantive, similaritate cu titlu, pozitia in text\",\n",
    "                      *train_and_evaluate_tfidf(2, True, True, True)))"
   ]
  },
  {
   "cell_type": "markdown",
   "id": "e6abcedb",
   "metadata": {},
   "source": [
    "### Evaluare 4-grame"
   ]
  },
  {
   "cell_type": "code",
   "execution_count": 213,
   "id": "93d6d903",
   "metadata": {},
   "outputs": [],
   "source": [
    "results.append(Result(\"TF-IDF pentru 4-grame\", *train_and_evaluate_tfidf(4, False, False, False)))\n",
    "results.append(Result(\"TF-IDF pentru 4-grame, doar substantive\", *train_and_evaluate_tfidf(4, True, False, False)))\n",
    "results.append(Result(\"TF-IDF pentru 4-grame, doar substantive, similaritate cu titlu\",\n",
    "                      *train_and_evaluate_tfidf(4, True, True, False)))\n",
    "results.append(Result(\"TF-IDF pentru 4-grame, doar substantive, similaritate cu titlu, pozitia in text\",\n",
    "                      *train_and_evaluate_tfidf(4, True, True, True)))"
   ]
  },
  {
   "cell_type": "code",
   "execution_count": 214,
   "id": "82391869",
   "metadata": {},
   "outputs": [
    {
     "name": "stdout",
     "output_type": "stream",
     "text": [
      "Result(model='NB pentru unigrame', blue=0.62, rouge=0.66)\n",
      "Result(model='NB pentru unigrame, fara stop words', blue=0.59, rouge=0.6)\n",
      "Result(model='NB pentru unigrame, fara stop words, cu lematizare', blue=0.57, rouge=0.62)\n",
      "Result(model='NB pentru bigrame', blue=0.69, rouge=0.55)\n",
      "Result(model='NB pentru bigrame, fara stop words', blue=0.74, rouge=0.51)\n",
      "Result(model='NB pentru bigrame, fara stop words, cu lematizare', blue=0.72, rouge=0.51)\n",
      "Result(model='NB pentru 4grame', blue=0.89, rouge=0.48)\n",
      "Result(model='NB pentru 4grame, fara stop words', blue=0.74, rouge=0.55)\n",
      "Result(model='NB pentru 4grame, fara stop words, cu lematizare', blue=0.74, rouge=0.55)\n",
      "Result(model='TF-IDF pentru unigrame', blue=0.58, rouge=0.65)\n",
      "Result(model='TF-IDF pentru unigrame, doar substantive', blue=0.59, rouge=0.67)\n",
      "Result(model='TF-IDF pentru unigrame, doar substantive, similaritate cu titlu', blue=0.61, rouge=0.67)\n",
      "Result(model='TF-IDF pentru unigrame, doar substantive, similaritate cu titlu, pozitia in text', blue=0.6, rouge=0.67)\n",
      "Result(model='TF-IDF pentru bigrame', blue=0.53, rouge=0.56)\n",
      "Result(model='TF-IDF pentru bigrame, doar substantive', blue=0.53, rouge=0.58)\n",
      "Result(model='TF-IDF pentru bigrame, doar substantive, similaritate cu titlu', blue=0.53, rouge=0.56)\n",
      "Result(model='TF-IDF pentru bigrame, doar substantive, similaritate cu titlu, pozitia in text', blue=0.52, rouge=0.53)\n",
      "Result(model='TF-IDF pentru 4-grame', blue=0.46, rouge=0.88)\n",
      "Result(model='TF-IDF pentru 4-grame, doar substantive', blue=0.48, rouge=0.87)\n",
      "Result(model='TF-IDF pentru 4-grame, doar substantive, similaritate cu titlu', blue=0.48, rouge=0.86)\n",
      "Result(model='TF-IDF pentru 4-grame, doar substantive, similaritate cu titlu, pozitia in text', blue=0.48, rouge=0.39)\n",
      "Result(model='TF-IDF pentru 4-grame', blue=0.46, rouge=0.84)\n",
      "Result(model='TF-IDF pentru 4-grame, doar substantive', blue=0.48, rouge=0.83)\n",
      "Result(model='TF-IDF pentru 4-grame, doar substantive, similaritate cu titlu', blue=0.48, rouge=0.8)\n",
      "Result(model='TF-IDF pentru 4-grame, doar substantive, similaritate cu titlu, pozitia in text', blue=0.49, rouge=0.3)\n"
     ]
    }
   ],
   "source": [
    "for r in results:\n",
    "    print(r)"
   ]
  },
  {
   "cell_type": "markdown",
   "id": "a4e91d74",
   "metadata": {},
   "source": [
    "Observatii:\n",
    "- desi nu am mai cuprins in rezultate, am incercat si mai multe valori ale lui k si am observat ca daca maresc k, valoarea lui rouge (recall) creste, dar incepe sa scada blue (precision), ceea ce e de asteptat. Recall are probabiliatatea sa fie mai mare cu cat mai multe propozitii includem, dar creste si probabilitatea ca acele propozitii sa nu fie in \"ground truth\" si de aici scade precizia."
   ]
  },
  {
   "cell_type": "markdown",
   "id": "d1c6dd0f",
   "metadata": {},
   "source": [
    "## Cerinta 4 - Raport rezultate"
   ]
  },
  {
   "cell_type": "code",
   "execution_count": 250,
   "id": "0f01eab0",
   "metadata": {},
   "outputs": [],
   "source": [
    "def plot_bars(title, results):\n",
    "    blue_vals = [r.blue for r in results]\n",
    "    rouge_vals = [r.rouge for r in results]\n",
    "    x = list(range(len(results)))\n",
    "    labels = [str(i) for i in x]\n",
    "    width = 0.35\n",
    "    \n",
    "    fig, ax = plt.subplots()\n",
    "    rects1 = ax.bar([i - width/2 for i in x], blue_vals, width, label='blue')\n",
    "    rects2 = ax.bar([i + width/2 for i in x], rouge_vals, width, label='rouge')\n",
    "    \n",
    "    ax.set_title(title)\n",
    "    ax.set_xticks(x)\n",
    "    ax.legend()\n",
    "    \n",
    "    ax.bar_label(rects1, padding=3)\n",
    "    ax.bar_label(rects2, padding=3)\n",
    "    \n",
    "    fig.tight_layout()\n",
    "    \n",
    "    plt.rcParams['figure.figsize'] = [10, 5]\n",
    "    plt.show()"
   ]
  },
  {
   "cell_type": "markdown",
   "id": "67ed1d6e",
   "metadata": {},
   "source": [
    "### Diferentele de performanta aduse de fiecare modificare a algoritmului Naive Bayes"
   ]
  },
  {
   "cell_type": "code",
   "execution_count": 253,
   "id": "a05c8065",
   "metadata": {},
   "outputs": [
    {
     "data": {
      "image/png": "[encoded data removed]",
      "text/plain": [
       "<Figure size 720x360 with 1 Axes>"
      ]
     },
     "metadata": {
      "needs_background": "light"
     },
     "output_type": "display_data"
    },
    {
     "name": "stdout",
     "output_type": "stream",
     "text": [
      "Legend:\n",
      "0 NB pentru unigrame\n",
      "1 NB pentru unigrame, fara stop words\n",
      "2 NB pentru unigrame, fara stop words, cu lematizare\n",
      "3 NB pentru bigrame\n",
      "4 NB pentru bigrame, fara stop words\n",
      "5 NB pentru bigrame, fara stop words, cu lematizare\n",
      "6 NB pentru 4grame\n",
      "7 NB pentru 4grame, fara stop words\n",
      "8 NB pentru 4grame, fara stop words, cu lematizare\n"
     ]
    }
   ],
   "source": [
    "plot_bars(\"Naive Bayes\", results[:9])\n",
    "print(\"Legend:\")\n",
    "for i, r in enumerate(results[:9]):\n",
    "    print(i, r.model)"
   ]
  },
  {
   "cell_type": "markdown",
   "id": "90e58f2e",
   "metadata": {},
   "source": [
    "#### Observatii\n",
    "\n",
    "**Unigrame:**\n",
    "- E o varianta echilibrata, cu ambele valori (blue si rouge) in jurul lui 0.6. Asta inseamna (aproximativ) ca pastreaza 60% din propozitiile care aparea si in \"ground truth\", dar 40% din propozitii/tokeni sunt \"in plus\".\n",
    "- Desi nu se modifica semnificativ, observam ca prin eliminarea stop words, atat blue, cat si rouge, scad. Asta ar putea fi pentru ca , cuvintele stop alese nu sunt corecte si au o semnificatie in textele respective. Textele reprezinta niste stiri, menite publicului larg, si includ multe cuvinte simple si usor de inteles, pe care poate spacy le-a considerat nesemnificative, dar ele influentau usor performantele.\n",
    "- Prin lematizare, creste usor valoarea recall (rouge) deci sunt pastrate in rezumat mai multe propozitii relevante, dar blue scade usor.\n",
    "\n",
    "**Bigrame:**\n",
    "- Au o precizie mai mare decat varianta cu unigrame, dar un recall mai mic. Insemna ca pastreaza mai putine propozitii, dar acestea se regasesc in cele corecte cu un procent mai bun (~70%).\n",
    "- Prin eliminarea stop words, blue creste cu 5 procente, pentru ca bigramele formate sunt mai relevante.\n",
    "- Prin lematizare, precizia scade usor. Poate forma specifica a unor cuvinte era relevanta.\n",
    "\n",
    "**4-grame:**\n",
    "- Are cea mai buna precizie (aproape 90%). Tokenii formati din 4 cuvinte sunt mult mai specifici si clasifica mai corect propozitiile in relevante/nerelevante. Recall este in acelasi range de valori ca pentru unigrame si bigrame, iar valoarea de 0.5 poate insemna ca ar fi nevoie de mai multe propozitii incluse in rezumat.\n",
    "- Eliminarea stop words duce la o precizie cu 15 procente mai mica pentru ca exista multe propozitii scurte, care prin eliminarea aceasta, devin si mai mici si uneori nu au nici 4 cuvinte pentru formarea unei 4-grame, deci nu reusesc sa influenteze corect parametrii modelului."
   ]
  },
  {
   "cell_type": "markdown",
   "id": "d3c9007f",
   "metadata": {},
   "source": [
    "### Diferentele de performanta aduse de fiecare modificare a algoritmului TF-IDF"
   ]
  },
  {
   "cell_type": "code",
   "execution_count": 265,
   "id": "63001f2a",
   "metadata": {},
   "outputs": [
    {
     "data": {
      "image/png": "[encoded data removed]",
      "text/plain": [
       "<Figure size 720x360 with 1 Axes>"
      ]
     },
     "metadata": {
      "needs_background": "light"
     },
     "output_type": "display_data"
    },
    {
     "name": "stdout",
     "output_type": "stream",
     "text": [
      "Legend:\n",
      "0 TF-IDF pentru unigrame\n",
      "1 TF-IDF pentru unigrame, doar substantive\n",
      "2 TF-IDF pentru unigrame, doar substantive, similaritate cu titlu\n",
      "3 TF-IDF pentru unigrame, doar substantive, similaritate cu titlu, pozitia in text\n",
      "4 TF-IDF pentru bigrame\n",
      "5 TF-IDF pentru bigrame, doar substantive\n",
      "6 TF-IDF pentru bigrame, doar substantive, similaritate cu titlu\n",
      "7 TF-IDF pentru bigrame, doar substantive, similaritate cu titlu, pozitia in text\n",
      "8 TF-IDF pentru 4-grame\n",
      "9 TF-IDF pentru 4-grame, doar substantive\n",
      "10 TF-IDF pentru 4-grame, doar substantive, similaritate cu titlu\n",
      "11 TF-IDF pentru 4-grame, doar substantive, similaritate cu titlu, pozitia in text\n"
     ]
    }
   ],
   "source": [
    "plot_bars(\"TF-IDF\", results[9:(9+12)])\n",
    "print(\"Legend:\")\n",
    "for i, r in enumerate(results[9:(9+12)]):\n",
    "    print(i, r.model)"
   ]
  },
  {
   "cell_type": "markdown",
   "id": "419fdf8b",
   "metadata": {},
   "source": [
    "#### Observatii\n",
    "- Se observa in general o precizie scazuta (multe variante cu <0.5), dar un recall foarte mare pentru jumatate din variante. Acest lucru se datoreaza faptului ca acest model impune includerea a unui numar strict de propozitii (30% din nr. de propozitii din textul original) chiar daca unele poate au un scor prea mic ca sa fie relevante.\n",
    "- Valorile pentru variantele cu acelasi n in n-grame sunt asemanatoare, folosirea doar a substantivelor si ponderarea similitudinii cu titlu aducand o usoara crestere pentru blue si rouge. Singura tehnica , care schimba mult performantele, pentru 4-grame, este folosirea pozitiei in text. Este din cauza ca, multe propozitii sunt scurte si asa ca uneori nici nu returneaza nicio 4-grama, iar potrivirea a 4 cuvinte consecutive cu titlul e putin probabile, asa ca singura metrica care influenteaza mult scorul unei propozitii este pozitia in text. Dar aceasta singura nu e suficient pentru a clasifica corect propozitia. "
   ]
  },
  {
   "cell_type": "markdown",
   "id": "43da1571",
   "metadata": {},
   "source": [
    "### Comparatie algoritmilor\n",
    "Am ales de la fiecare algoritm 2 variante care au dat rezultate bune pentru a putea compara modelele."
   ]
  },
  {
   "cell_type": "code",
   "execution_count": 256,
   "id": "8decb07a",
   "metadata": {},
   "outputs": [
    {
     "data": {
      "image/png": "[encoded data removed]",
      "text/plain": [
       "<Figure size 720x360 with 1 Axes>"
      ]
     },
     "metadata": {
      "needs_background": "light"
     },
     "output_type": "display_data"
    },
    {
     "name": "stdout",
     "output_type": "stream",
     "text": [
      "Legend:\n",
      "4 NB pentru bigrame, fara stop words\n",
      "6 NB pentru 4grame\n",
      "12 TF-IDF pentru unigrame, doar substantive, similaritate cu titlu, pozitia in text\n",
      "18 TF-IDF pentru 4-grame, doar substantive\n"
     ]
    }
   ],
   "source": [
    "plot_bars(\"Naive Bayes vs TF-IDF\", [results[4], results[6], results[9+3], results[9+9]])\n",
    "print(\"Legend:\")\n",
    "for i in [4, 6, 9+3, 9+9]:\n",
    "    print(i, results[i].model)"
   ]
  },
  {
   "cell_type": "markdown",
   "id": "892ff513",
   "metadata": {},
   "source": [
    "#### Observatii"
   ]
  },
  {
   "cell_type": "markdown",
   "id": "65eb8a13",
   "metadata": {},
   "source": [
    "- Algoritmul Naive Bayes are o precizie mai buna (chiar foarte buna - 89%) fata de algoritmul bazat pe scorul TF-IDF, dar un recall mai scazut (0.51 vs 0.87).\n",
    "- Precizia (valoarea blue) are valori mai mici atunci cand sumarizarea calculata include mai multe propozitii care nu faceau parte din \"ground truth\". In cazul TF-IDF, sunt pastrate mereu 30% din propozitii din stire, in timp ce Naive Bayes nu are un numar de propozitii tinta, ci le include doar pe cele pe care le considera relevante. O posibila imbunatatire pentru TF-IDF extrasa din aceasta idee ar fi setarea unui scor minim necesar sau micsorarea valorii k. Dar daca k scade, scade si recall.\n",
    "- Recall (valoarea rouge) creste atunci cand in sumarizare apar mai multe propozitii pentru ca nu depinde de cat de multe sunt gresit incluse, ci doar de cat de multe sunt comune cu \"ground truth\". De accea la TF-IDF, cand includem 30% din propozitii, sunt mai multe decat la Naive Bayes si are un recall mai bun."
   ]
  },
  {
   "cell_type": "markdown",
   "id": "d94fb8f5",
   "metadata": {},
   "source": [
    "#### Imbunatatire TF-IDF prin adaugarea unui scor minim necesar includerii propozitiei\n",
    "Observam mai jos ca precizia creste (cu 0.04), dar recall incepe sa scada, asa cum ne-am astepta atunci cand includem mai putine propozitii. Poate cu alte valori pentru scorul minim, se poate obtine o precizie si mai buna."
   ]
  },
  {
   "cell_type": "code",
   "execution_count": 263,
   "id": "f48c4d1f",
   "metadata": {},
   "outputs": [
    {
     "name": "stdout",
     "output_type": "stream",
     "text": [
      "Result(model='TF-IDF cu folosirea unui scor minim', blue=0.64, rouge=0.51)\n"
     ]
    },
    {
     "data": {
      "image/png": "[encoded data removed]",
      "text/plain": [
       "<Figure size 720x360 with 1 Axes>"
      ]
     },
     "metadata": {
      "needs_background": "light"
     },
     "output_type": "display_data"
    }
   ],
   "source": [
    "bonus_results = Result(\"TF-IDF cu folosirea unui scor minim\",\n",
    "                      *train_and_evaluate_tfidf(1, True, True, True))\n",
    "print(bonus_results)\n",
    "plot_bars(\"Imbunatatire TF-IDF\", [results[9+3], bonus_results])"
   ]
  },
  {
   "cell_type": "markdown",
   "id": "89f5754f",
   "metadata": {},
   "source": [
    "### Analiza celor mai bune variante ale modelelor pe fiecare categorie de stiri"
   ]
  },
  {
   "cell_type": "code",
   "execution_count": 278,
   "id": "6eed10b5",
   "metadata": {},
   "outputs": [],
   "source": [
    "def train_and_evaluate_bayes_category(idx, ngrams, elim_stop, lemma):\n",
    "    training_results = [None] * len(CATEGORIES)\n",
    "    training_results[idx] = count_words(news_train[idx], summaries_train[idx], ngrams, elim_stop, lemma)\n",
    "    \n",
    "    return evaluate(training_results, summarize_bayes, ngrams, elim_stop, lemma, [idx])\n",
    "\n",
    "def train_and_evaluate_tfidf_category(idx, ngrams, only_subst, use_title, weight_position):\n",
    "    training_results = [None] * len(CATEGORIES)\n",
    "    training_results[idx] = compute_scores(news_train[idx], ngrams, only_subst)\n",
    "    \n",
    "    return evaluate_tfidf(training_results, summarize_tfidf, ngrams, only_subst, use_title, weight_position, [idx])"
   ]
  },
  {
   "cell_type": "code",
   "execution_count": 273,
   "id": "608c36fb",
   "metadata": {},
   "outputs": [],
   "source": [
    "categories_results = []\n",
    "for idx in range(len(CATEGORIES)):\n",
    "    categories_results.append(Result(\"Bayes \" + CATEGORIES[idx], *train_and_evaluate_bayes_category(idx, 2, True, False)))"
   ]
  },
  {
   "cell_type": "code",
   "execution_count": 281,
   "id": "c43fa7d8",
   "metadata": {},
   "outputs": [],
   "source": [
    "for idx in range(len(CATEGORIES)):\n",
    "    categories_results.append(Result(\"TF-IDF \" + CATEGORIES[idx], *train_and_evaluate_tfidf_category(idx, 1, True, True, True)))"
   ]
  },
  {
   "cell_type": "code",
   "execution_count": 282,
   "id": "899870cf",
   "metadata": {},
   "outputs": [
    {
     "name": "stdout",
     "output_type": "stream",
     "text": [
      "Result(model='Bayes business', blue=0.71, rouge=0.45)\n",
      "Result(model='Bayes entertainment', blue=0.76, rouge=0.52)\n",
      "Result(model='Bayes politics', blue=0.75, rouge=0.5)\n",
      "Result(model='Bayes sport', blue=0.67, rouge=0.5)\n",
      "Result(model='Bayes tech', blue=0.83, rouge=0.57)\n",
      "Result(model='TF-IDF business', blue=0.61, rouge=0.5)\n",
      "Result(model='TF-IDF entertainment', blue=0.66, rouge=0.56)\n",
      "Result(model='TF-IDF politics', blue=0.64, rouge=0.56)\n",
      "Result(model='TF-IDF sport', blue=0.61, rouge=0.57)\n",
      "Result(model='TF-IDF tech', blue=0.64, rouge=0.56)\n"
     ]
    }
   ],
   "source": [
    "for r in categories_results:\n",
    "    print(r)"
   ]
  },
  {
   "cell_type": "code",
   "execution_count": 283,
   "id": "ad698455",
   "metadata": {},
   "outputs": [
    {
     "data": {
      "image/png": "[encoded data removed]",
      "text/plain": [
       "<Figure size 720x360 with 1 Axes>"
      ]
     },
     "metadata": {
      "needs_background": "light"
     },
     "output_type": "display_data"
    },
    {
     "name": "stdout",
     "output_type": "stream",
     "text": [
      "Legend:\n",
      "0 Bayes business\n",
      "1 Bayes entertainment\n",
      "2 Bayes politics\n",
      "3 Bayes sport\n",
      "4 Bayes tech\n",
      "5 TF-IDF business\n",
      "6 TF-IDF entertainment\n",
      "7 TF-IDF politics\n",
      "8 TF-IDF sport\n",
      "9 TF-IDF tech\n"
     ]
    }
   ],
   "source": [
    "plot_bars(\"Categorii de stiri\", categories_results)\n",
    "print(\"Legend:\")\n",
    "for i, r in enumerate(categories_results):\n",
    "    print(i, r.model)"
   ]
  },
  {
   "cell_type": "markdown",
   "id": "e60643de",
   "metadata": {},
   "source": [
    "#### Observatii\n",
    "- Categories business are recall cel mai mic pentru ambii algoritmi: mai putin de jumatate din tokenii din \"ground truth\" se regasesc in sumarizarile calculate.\n",
    "- Pentru algoritmul TF-IDF, recall este cu peste 10 procente mai mic decat daca antrenam modelul cu toate categoriile, iar precizia este asemenatoare cu cea overall. Inseamna ca facand vocabularul mai specific impingem modelul sa aleaga mai putine propozitii care se regaseau in \"ground truth\".\n",
    "- Pentru algoritmul Bayes, categoria tech are o precizie mult mai buna, probabil datorata multitudinii de cuvinte specializate ce intra in bigrame foarte relevante."
   ]
  },
  {
   "cell_type": "markdown",
   "id": "2d7ad293",
   "metadata": {},
   "source": [
    "## Analiza calitativa pe cateva exemple (din categoria politics)"
   ]
  },
  {
   "cell_type": "code",
   "execution_count": 285,
   "id": "cf417475",
   "metadata": {},
   "outputs": [],
   "source": [
    "training_bayes_1 = [None] * len(CATEGORIES)\n",
    "training_bayes_1[POLITICS] = count_words(news_train[POLITICS], summaries_train[POLITICS], 2, False, False)\n",
    "\n",
    "training_bayes_2 = [None] * len(CATEGORIES)\n",
    "training_bayes_2[POLITICS] = count_words(news_train[POLITICS], summaries_train[POLITICS], 2, True, False)\n",
    "\n",
    "training_bayes_3 = [None] * len(CATEGORIES)\n",
    "training_bayes_3[POLITICS] = count_words(news_train[POLITICS], summaries_train[POLITICS], 2, True, True)"
   ]
  },
  {
   "cell_type": "code",
   "execution_count": 286,
   "id": "cd14d126",
   "metadata": {},
   "outputs": [],
   "source": [
    "training_tfidf_1 = [None] * len(CATEGORIES)\n",
    "training_tfidf_1[POLITICS] = compute_scores(news_train[POLITICS], 1, False)\n",
    "\n",
    "training_tfidf_2 = [None] * len(CATEGORIES)\n",
    "training_tfidf_2[POLITICS] = compute_scores(news_train[POLITICS], 1, True)"
   ]
  },
  {
   "cell_type": "code",
   "execution_count": 290,
   "id": "b4aa74fc",
   "metadata": {},
   "outputs": [
    {
     "name": "stdout",
     "output_type": "stream",
     "text": [
      "Pentru 3 exemple din setul de antrenare\n",
      "---------------------------------------\n",
      "Textul original:\n",
      "b'Concerns at school diploma plan\\n\\nFinal appeals are being made for the government not to ditch the reform plan for England\\'s secondary schools put forward by the Tomlinson report.\\n\\nThe government\\'s response to the plan for a four-tier diploma to replace all existing 14-19 qualifications is expected next week. Some are worried it could be scuppered if, as Tony Blair and Ruth Kelly have suggested, GCSEs and A-levels stay. Sir Mike Tomlinson himself was briefed only this week. He is said to be feeling more comfortable about what the government is likely to say than if he had read only what was in newspapers in the earlier part of the week. But the government was said to be still rewriting its response on Friday. \"It will be a tragedy if the government comes through with a half-hearted response,\" said the chairman of the Commons education select committee, Labour MP Barry Sheerman.\\n\\nHis main concern was the reports that there would be a diploma - but only to replace existing vocational qualifications. \"We must tackle head-on the structural mess that is our secondary education system,\" he wrote in the Times Educational Supplement. \"It is not the case that the academic stream in secondary is fine while the vocational route is desperately weak.\" The Qualifications and Curriculum Authority (QCA) has also told the government not to \"compromise\". The QCA said the potential \"step-change in participation and attainment\" lay in the integrity of the whole diploma. \"Any partial implementation of the proposals would, in our view, compromise that integrity,\" said its chairman, Sir Anthony Greener. It is a sign of the QCA\\'s concern that its advice went to ministers last December but was publicised only recently. But people understand that a White Paper response is government policy and has to command wider ministerial support than if it were coming only from the Department for Education and Skills. They may be content if it does not \"close too many doors\" in writing - whatever spin is put on it.\\n\\nThe chief inspector of schools, David Bell, also said recently that GCSEs and A-levels should go. \"One of the reasons why I\\'m so strongly in favour of these terms disappearing over time is that it\\'s good for the symbols of change to be seen right across the system,\" he said. \"If we don\\'t say this is a sea-change in education, we will miss a great opportunity.\" Universities and head teachers in both the independent and state sectors have also backed the Tomlinson proposals, which include having higher grades at advanced level to differentiate between the brightest students. A note of concern has been expressed repeatedly by the employers\\' organisation, the CBI, which complains of a lack of skills. In an attempt to address this, the Tomlinson plan is for tests in \"functional\" maths and literacy - decidedly not GCSEs. It has been suggested the government will take steps of some sort to meet firms\\' concerns on this score. Another dissenter is Sir Mike Tomlinson\\'s predecessor as chief schools inspector, Professor Chris Woodhead, who has said there is no need for such a \"massive upheaval\". The Conservative Party has put forward plans to revert to a system of having only the brightest percentage of students each year getting the top A-level grade, no matter how well the others have done.\\n'\n",
      "---------------------------------------\n",
      "Sumarizarea reala:\n",
      "b'But the government was said to be still rewriting its response on Friday.He is said to be feeling more comfortable about what the government is likely to say than if he had read only what was in newspapers in the earlier part of the week.Final appeals are being made for the government not to ditch the reform plan for England\\'s secondary schools put forward by the Tomlinson report.\"It will be a tragedy if the government comes through with a half-hearted response,\" said the chairman of the Commons education select committee, Labour MP Barry Sheerman.His main concern was the reports that there would be a diploma - but only to replace existing vocational qualifications.The Qualifications and Curriculum Authority (QCA) has also told the government not to \"compromise\".Sir Mike Tomlinson himself was briefed only this week.It has been suggested the government will take steps of some sort to meet firms\\' concerns on this score.But people understand that a White Paper response is government policy and has to command wider ministerial support than if it were coming only from the Department for Education and Skills.The chief inspector of schools, David Bell, also said recently that GCSEs and A-levels should go.'\n",
      "---------------------------------------\n",
      "Sumarizarea produse de Bayes, cu bigrame:\n",
      "Final appeals are being made for the government not to ditch the reform plan for England's secondary schools put forward by the Tomlinson report.Sir Mike Tomlinson himself was briefed only this week.He is said to be feeling more comfortable about what the government is likely to say than if he had read only what was in newspapers in the earlier part of the week.But the government was said to be still rewriting its response on Friday.\"It will be a tragedy if the government comes through with a half-hearted response,\" said the chairman of the Commons education select committee, Labour MP Barry Sheerman.His main concern was the reports that there would be a diploma - but only to replace existing vocational qualifications.The Qualifications and Curriculum Authority (QCA) has also told the government not to \"compromise\".But people understand that a White Paper response is government policy and has to command wider ministerial support than if it were coming only from the Department for Education and Skills.The chief inspector of schools, David Bell, also said recently that GCSEs and A-levels should go.It has been suggested the government will take steps of some sort to meet firms' concerns on this score.\n",
      "---------------------------------------\n",
      "Sumarizarea produse de Bayes, cu bigrame, eliminare de stop words:\n",
      "Final appeals are being made for the government not to ditch the reform plan for England's secondary schools put forward by the Tomlinson report.Sir Mike Tomlinson himself was briefed only this week.He is said to be feeling more comfortable about what the government is likely to say than if he had read only what was in newspapers in the earlier part of the week.But the government was said to be still rewriting its response on Friday.\"It will be a tragedy if the government comes through with a half-hearted response,\" said the chairman of the Commons education select committee, Labour MP Barry Sheerman.His main concern was the reports that there would be a diploma - but only to replace existing vocational qualifications.The Qualifications and Curriculum Authority (QCA) has also told the government not to \"compromise\".But people understand that a White Paper response is government policy and has to command wider ministerial support than if it were coming only from the Department for Education and Skills.The chief inspector of schools, David Bell, also said recently that GCSEs and A-levels should go.It has been suggested the government will take steps of some sort to meet firms' concerns on this score.\n",
      "---------------------------------------\n",
      "Sumarizarea produse de Bayes, cu bigrame, eliminare de stop words, lematizare:\n",
      "Final appeals are being made for the government not to ditch the reform plan for England's secondary schools put forward by the Tomlinson report.Sir Mike Tomlinson himself was briefed only this week.He is said to be feeling more comfortable about what the government is likely to say than if he had read only what was in newspapers in the earlier part of the week.But the government was said to be still rewriting its response on Friday.\"It will be a tragedy if the government comes through with a half-hearted response,\" said the chairman of the Commons education select committee, Labour MP Barry Sheerman.His main concern was the reports that there would be a diploma - but only to replace existing vocational qualifications.The Qualifications and Curriculum Authority (QCA) has also told the government not to \"compromise\".But people understand that a White Paper response is government policy and has to command wider ministerial support than if it were coming only from the Department for Education and Skills.The chief inspector of schools, David Bell, also said recently that GCSEs and A-levels should go.It has been suggested the government will take steps of some sort to meet firms' concerns on this score.\n",
      "---------------------------------------\n",
      "Sumarizarea produse de TF-IDF, cu unigrame:\n",
      "Concerns at school diploma plan\n",
      "Final appeals are being made for the government not to ditch the reform plan for England's secondary schools put forward by the Tomlinson report.The government's response to the plan for a four-tier diploma to replace all existing 14-19 qualifications is expected next week.Some are worried it could be scuppered if, as Tony Blair and Ruth Kelly have suggested, GCSEs and A-levels stay.Sir Mike Tomlinson himself was briefed only this week.He is said to be feeling more comfortable about what the government is likely to say than if he had read only what was in newspapers in the earlier part of the week.But the government was said to be still rewriting its response on Friday.\"It will be a tragedy if the government comes through with a half-hearted response,\" said the chairman of the Commons education select committee, Labour MP Barry Sheerman.His main concern was the reports that there would be a diploma - but only to replace existing vocational qualifications.\"We must tackle head-on the structural mess that is our secondary education system,\" he wrote in the Times Educational Supplement.\"It is not the case that the academic stream in secondary is fine while the vocational route is desperately weak.\"The Qualifications and Curriculum Authority (QCA) has also told the government not to \"compromise\".The QCA said the potential \"step-change in participation and attainment\" lay in the integrity of the whole diploma.\"Any partial implementation of the proposals would, in our view, compromise that integrity,\" said its chairman, Sir Anthony Greener.It is a sign of the QCA's concern that its advice went to ministers last December but was publicised only recently.But people understand that a White Paper response is government policy and has to command wider ministerial support than if it were coming only from the Department for Education and Skills.They may be content if it does not \"close too many doors\" in writing - whatever spin is put on it.The chief inspector of schools, David Bell, also said recently that GCSEs and A-levels should go.\"One of the reasons why I'm so strongly in favour of these terms disappearing over time is that it's good for the symbols of change to be seen right across the system,\" he said.\"If we don't say this is a sea-change in education, we will miss a great opportunity.\"Universities and head teachers in both the independent and state sectors have also backed the Tomlinson proposals, which include having higher grades at advanced level to differentiate between the brightest students.A note of concern has been expressed repeatedly by the employers' organisation, the CBI, which complains of a lack of skills.In an attempt to address this, the Tomlinson plan is for tests in \"functional\" maths and literacy - decidedly not GCSEs.It has been suggested the government will take steps of some sort to meet firms' concerns on this score.Another dissenter is Sir Mike Tomlinson's predecessor as chief schools inspector, Professor Chris Woodhead, who has said there is no need for such a \"massive upheaval\".The Conservative Party has put forward plans to revert to a system of having only the brightest percentage of students each year getting the top A-level grade, no matter how well the others have done.\n",
      "---------------------------------------\n",
      "Sumarizarea produse de TF-IDF, cu unigrame, doar substantive:\n",
      "Concerns at school diploma plan\n",
      "Final appeals are being made for the government not to ditch the reform plan for England's secondary schools put forward by the Tomlinson report.The government's response to the plan for a four-tier diploma to replace all existing 14-19 qualifications is expected next week.Some are worried it could be scuppered if, as Tony Blair and Ruth Kelly have suggested, GCSEs and A-levels stay.Sir Mike Tomlinson himself was briefed only this week.He is said to be feeling more comfortable about what the government is likely to say than if he had read only what was in newspapers in the earlier part of the week.But the government was said to be still rewriting its response on Friday.\"It will be a tragedy if the government comes through with a half-hearted response,\" said the chairman of the Commons education select committee, Labour MP Barry Sheerman.His main concern was the reports that there would be a diploma - but only to replace existing vocational qualifications.\"We must tackle head-on the structural mess that is our secondary education system,\" he wrote in the Times Educational Supplement.\"It is not the case that the academic stream in secondary is fine while the vocational route is desperately weak.\"The Qualifications and Curriculum Authority (QCA) has also told the government not to \"compromise\".The QCA said the potential \"step-change in participation and attainment\" lay in the integrity of the whole diploma.\"Any partial implementation of the proposals would, in our view, compromise that integrity,\" said its chairman, Sir Anthony Greener.It is a sign of the QCA's concern that its advice went to ministers last December but was publicised only recently.But people understand that a White Paper response is government policy and has to command wider ministerial support than if it were coming only from the Department for Education and Skills.They may be content if it does not \"close too many doors\" in writing - whatever spin is put on it.The chief inspector of schools, David Bell, also said recently that GCSEs and A-levels should go.\"One of the reasons why I'm so strongly in favour of these terms disappearing over time is that it's good for the symbols of change to be seen right across the system,\" he said.\"If we don't say this is a sea-change in education, we will miss a great opportunity.\"Universities and head teachers in both the independent and state sectors have also backed the Tomlinson proposals, which include having higher grades at advanced level to differentiate between the brightest students.A note of concern has been expressed repeatedly by the employers' organisation, the CBI, which complains of a lack of skills.In an attempt to address this, the Tomlinson plan is for tests in \"functional\" maths and literacy - decidedly not GCSEs.It has been suggested the government will take steps of some sort to meet firms' concerns on this score.Another dissenter is Sir Mike Tomlinson's predecessor as chief schools inspector, Professor Chris Woodhead, who has said there is no need for such a \"massive upheaval\".The Conservative Party has put forward plans to revert to a system of having only the brightest percentage of students each year getting the top A-level grade, no matter how well the others have done.\n",
      "---------------------------------------\n",
      "Sumarizarea produse de TF-IDF, cu unigrame, doar substantive, similaritate cu titlu:\n",
      "Concerns at school diploma plan\n",
      "Final appeals are being made for the government not to ditch the reform plan for England's secondary schools put forward by the Tomlinson report.The government's response to the plan for a four-tier diploma to replace all existing 14-19 qualifications is expected next week.Some are worried it could be scuppered if, as Tony Blair and Ruth Kelly have suggested, GCSEs and A-levels stay.Sir Mike Tomlinson himself was briefed only this week.He is said to be feeling more comfortable about what the government is likely to say than if he had read only what was in newspapers in the earlier part of the week.But the government was said to be still rewriting its response on Friday.\"It will be a tragedy if the government comes through with a half-hearted response,\" said the chairman of the Commons education select committee, Labour MP Barry Sheerman.His main concern was the reports that there would be a diploma - but only to replace existing vocational qualifications.\"We must tackle head-on the structural mess that is our secondary education system,\" he wrote in the Times Educational Supplement.\"It is not the case that the academic stream in secondary is fine while the vocational route is desperately weak.\"The Qualifications and Curriculum Authority (QCA) has also told the government not to \"compromise\".The QCA said the potential \"step-change in participation and attainment\" lay in the integrity of the whole diploma.\"Any partial implementation of the proposals would, in our view, compromise that integrity,\" said its chairman, Sir Anthony Greener.It is a sign of the QCA's concern that its advice went to ministers last December but was publicised only recently.But people understand that a White Paper response is government policy and has to command wider ministerial support than if it were coming only from the Department for Education and Skills.They may be content if it does not \"close too many doors\" in writing - whatever spin is put on it.The chief inspector of schools, David Bell, also said recently that GCSEs and A-levels should go.\"One of the reasons why I'm so strongly in favour of these terms disappearing over time is that it's good for the symbols of change to be seen right across the system,\" he said.\"If we don't say this is a sea-change in education, we will miss a great opportunity.\"Universities and head teachers in both the independent and state sectors have also backed the Tomlinson proposals, which include having higher grades at advanced level to differentiate between the brightest students.A note of concern has been expressed repeatedly by the employers' organisation, the CBI, which complains of a lack of skills.In an attempt to address this, the Tomlinson plan is for tests in \"functional\" maths and literacy - decidedly not GCSEs.It has been suggested the government will take steps of some sort to meet firms' concerns on this score.Another dissenter is Sir Mike Tomlinson's predecessor as chief schools inspector, Professor Chris Woodhead, who has said there is no need for such a \"massive upheaval\".The Conservative Party has put forward plans to revert to a system of having only the brightest percentage of students each year getting the top A-level grade, no matter how well the others have done.\n",
      "---------------------------------------\n",
      "Sumarizarea produse de TF-IDF, cu unigrame, doar substantive, similaritate cu title, pozitia in text:\n",
      "Concerns at school diploma plan\n",
      "Final appeals are being made for the government not to ditch the reform plan for England's secondary schools put forward by the Tomlinson report.The government's response to the plan for a four-tier diploma to replace all existing 14-19 qualifications is expected next week.Some are worried it could be scuppered if, as Tony Blair and Ruth Kelly have suggested, GCSEs and A-levels stay.Sir Mike Tomlinson himself was briefed only this week.He is said to be feeling more comfortable about what the government is likely to say than if he had read only what was in newspapers in the earlier part of the week.But the government was said to be still rewriting its response on Friday.\"It will be a tragedy if the government comes through with a half-hearted response,\" said the chairman of the Commons education select committee, Labour MP Barry Sheerman.His main concern was the reports that there would be a diploma - but only to replace existing vocational qualifications.\"We must tackle head-on the structural mess that is our secondary education system,\" he wrote in the Times Educational Supplement.\"It is not the case that the academic stream in secondary is fine while the vocational route is desperately weak.\"The Qualifications and Curriculum Authority (QCA) has also told the government not to \"compromise\".The QCA said the potential \"step-change in participation and attainment\" lay in the integrity of the whole diploma.\"Any partial implementation of the proposals would, in our view, compromise that integrity,\" said its chairman, Sir Anthony Greener.It is a sign of the QCA's concern that its advice went to ministers last December but was publicised only recently.But people understand that a White Paper response is government policy and has to command wider ministerial support than if it were coming only from the Department for Education and Skills.They may be content if it does not \"close too many doors\" in writing - whatever spin is put on it.The chief inspector of schools, David Bell, also said recently that GCSEs and A-levels should go.\"One of the reasons why I'm so strongly in favour of these terms disappearing over time is that it's good for the symbols of change to be seen right across the system,\" he said.\"If we don't say this is a sea-change in education, we will miss a great opportunity.\"Universities and head teachers in both the independent and state sectors have also backed the Tomlinson proposals, which include having higher grades at advanced level to differentiate between the brightest students.A note of concern has been expressed repeatedly by the employers' organisation, the CBI, which complains of a lack of skills.In an attempt to address this, the Tomlinson plan is for tests in \"functional\" maths and literacy - decidedly not GCSEs.It has been suggested the government will take steps of some sort to meet firms' concerns on this score.Another dissenter is Sir Mike Tomlinson's predecessor as chief schools inspector, Professor Chris Woodhead, who has said there is no need for such a \"massive upheaval\".The Conservative Party has put forward plans to revert to a system of having only the brightest percentage of students each year getting the top A-level grade, no matter how well the others have done.\n",
      "---------------------------------------\n",
      "Textul original:\n",
      "b'Muslims discuss election concerns\\n\\nIssues that Muslims should be considering before voting in the next general election are to be debated by UK community representatives.\\n\\nThe event is being held by the Muslim Association of Britain (MAB), which believes Muslim voters could influence the result in up to 50 constituencies. Last year MAB, which opposed the war in Iraq, urged Muslims not to vote for Labour in the European elections. But a spokesman stressed the meeting was \"not necessarily anti-Labour\". \"This meeting is not anti-party in particular, it\\'s anti-policy, it\\'s on the issues we are going to ask Muslims to vote on,\" MAB spokesman Dr Azzam Tamimi said of Tuesday\\'s event.\\n\\n\"There are issues of concern to Muslims, and Muslims generally agree on them but have not in the past been aware of how a vote can serve these issues.\" Dr Tamimi said the main issues Muslims should consider were what he referred to as the war on Iraq, the Palestinian situation, the erosion of civil liberties for Muslims in the UK and economic, social and education problems.\\n\\nApproximately 1.1m of the UK\\'s 1.6m Muslims are of voting age. Previous election research has shown the overwhelming majority have traditionally voted Labour, but more recent studies have suggested Labour support has been falling away significantly among some Muslim voters.\\n\\nAnger over the war in Iraq has appeared to be the main reason, with many saying it was \"unjustified\". Representatives from a number of Muslim organisations will attend Tuesday\\'s event. Among them will be the Muslim Council of Britain (MCB). The chairman of the MCB\\'s public affairs committee, Sher Khan, said the war in Iraq would be a \"significant factor\" affecting Muslims\\' voting intentions. \"I think it\\'s going to be quite significant because of the number of seats in which they could have an impact,\" Mr Khan said.\\n\\nHowever, Professor John Curtice, of the University of Strathclyde, is sceptical about how much difference tactical voting by Muslims could make. \"For the most part the Labour constituencies where there\\'s a large Muslim community are relatively safe, but there are one or two that are not quite so safe,\" Professor Curtice said.\\n\\nThe constituencies where Labour was most at risk from a Muslim tactical vote were Bethnal Green, in east London, and Rochdale in Lancashire, he added. In Bethnal Green, former Labour MP George Galloway, who founded the anti-war party Respect, is standing against sitting MP Oona King, who had a 10,000-vote majority in 2001. In Rochdale, the Liberal Democrats - the mainstream party a 2004 ICM survey showed was benefiting most from Muslim disaffection with Labour - secured second place in the 2001 election, securing just under 6,000 votes fewer than Labour\\'s Lorna Fitzsimons. But Professor Curtice said the Muslim anti-war vote could be split between the Liberal Democrats and Respect, meaning neither would benefit much at the ballot box. \"Ironically the Tories might be the beneficiaries if Labour does lose seats, which is generally the case,\" he said. But Dr Tamimi said MAB\\'s intention was not to \"empower\" the Tories. \"We know the next government will be Labour, but we are aiming to send a message that it will make a difference if the Muslims use their vote properly. \"If the next Labour government has a reduced majority that\\'s a great achievement because having a very big majority has been very harmful for politics in this country,\" Dr Tamimi said.\\n'\n",
      "---------------------------------------\n",
      "Sumarizarea reala:\n",
      "b'\"This meeting is not anti-party in particular, it\\'s anti-policy, it\\'s on the issues we are going to ask Muslims to vote on,\" MAB spokesman Dr Azzam Tamimi said of Tuesday\\'s event.Last year MAB, which opposed the war in Iraq, urged Muslims not to vote for Labour in the European elections.Dr Tamimi said the main issues Muslims should consider were what he referred to as the war on Iraq, the Palestinian situation, the erosion of civil liberties for Muslims in the UK and economic, social and education problems.The constituencies where Labour was most at risk from a Muslim tactical vote were Bethnal Green, in east London, and Rochdale in Lancashire, he added.But Professor Curtice said the Muslim anti-war vote could be split between the Liberal Democrats and Respect, meaning neither would benefit much at the ballot box.\"We know the next government will be Labour, but we are aiming to send a message that it will make a difference if the Muslims use their vote properly.\"There are issues of concern to Muslims, and Muslims generally agree on them but have not in the past been aware of how a vote can serve these issues.\"The chairman of the MCB\\'s public affairs committee, Sher Khan, said the war in Iraq would be a \"significant factor\" affecting Muslims\\' voting intentions.\"For the most part the Labour constituencies where there\\'s a large Muslim community are relatively safe, but there are one or two that are not quite so safe,\" Professor Curtice said.\"If the next Labour government has a reduced majority that\\'s a great achievement because having a very big majority has been very harmful for politics in this country,\" Dr Tamimi said.'\n",
      "---------------------------------------\n",
      "Sumarizarea produse de Bayes, cu bigrame:\n",
      "Last year MAB, which opposed the war in Iraq, urged Muslims not to vote for Labour in the European elections.\"This meeting is not anti-party in particular, it's anti-policy, it's on the issues we are going to ask Muslims to vote on,\" MAB spokesman Dr Azzam Tamimi said of Tuesday's event.\"There are issues of concern to Muslims, and Muslims generally agree on them but have not in the past been aware of how a vote can serve these issues.\"Dr Tamimi said the main issues Muslims should consider were what he referred to as the war on Iraq, the Palestinian situation, the erosion of civil liberties for Muslims in the UK and economic, social and education problems.The chairman of the MCB's public affairs committee, Sher Khan, said the war in Iraq would be a \"significant factor\" affecting Muslims' voting intentions.\"For the most part the Labour constituencies where there's a large Muslim community are relatively safe, but there are one or two that are not quite so safe,\" Professor Curtice said.The constituencies where Labour was most at risk from a Muslim tactical vote were Bethnal Green, in east London, and Rochdale in Lancashire, he added.But Professor Curtice said the Muslim anti-war vote could be split between the Liberal Democrats and Respect, meaning neither would benefit much at the ballot box.\"We know the next government will be Labour, but we are aiming to send a message that it will make a difference if the Muslims use their vote properly.\"If the next Labour government has a reduced majority that's a great achievement because having a very big majority has been very harmful for politics in this country,\" Dr Tamimi said.\n",
      "---------------------------------------\n",
      "Sumarizarea produse de Bayes, cu bigrame, eliminare de stop words:\n",
      "Last year MAB, which opposed the war in Iraq, urged Muslims not to vote for Labour in the European elections.\"This meeting is not anti-party in particular, it's anti-policy, it's on the issues we are going to ask Muslims to vote on,\" MAB spokesman Dr Azzam Tamimi said of Tuesday's event.\"There are issues of concern to Muslims, and Muslims generally agree on them but have not in the past been aware of how a vote can serve these issues.\"Dr Tamimi said the main issues Muslims should consider were what he referred to as the war on Iraq, the Palestinian situation, the erosion of civil liberties for Muslims in the UK and economic, social and education problems.The chairman of the MCB's public affairs committee, Sher Khan, said the war in Iraq would be a \"significant factor\" affecting Muslims' voting intentions.\"For the most part the Labour constituencies where there's a large Muslim community are relatively safe, but there are one or two that are not quite so safe,\" Professor Curtice said.The constituencies where Labour was most at risk from a Muslim tactical vote were Bethnal Green, in east London, and Rochdale in Lancashire, he added.But Professor Curtice said the Muslim anti-war vote could be split between the Liberal Democrats and Respect, meaning neither would benefit much at the ballot box.\"We know the next government will be Labour, but we are aiming to send a message that it will make a difference if the Muslims use their vote properly.\"If the next Labour government has a reduced majority that's a great achievement because having a very big majority has been very harmful for politics in this country,\" Dr Tamimi said.\n",
      "---------------------------------------\n",
      "Sumarizarea produse de Bayes, cu bigrame, eliminare de stop words, lematizare:\n",
      "Last year MAB, which opposed the war in Iraq, urged Muslims not to vote for Labour in the European elections.\"This meeting is not anti-party in particular, it's anti-policy, it's on the issues we are going to ask Muslims to vote on,\" MAB spokesman Dr Azzam Tamimi said of Tuesday's event.\"There are issues of concern to Muslims, and Muslims generally agree on them but have not in the past been aware of how a vote can serve these issues.\"Dr Tamimi said the main issues Muslims should consider were what he referred to as the war on Iraq, the Palestinian situation, the erosion of civil liberties for Muslims in the UK and economic, social and education problems.The chairman of the MCB's public affairs committee, Sher Khan, said the war in Iraq would be a \"significant factor\" affecting Muslims' voting intentions.\"For the most part the Labour constituencies where there's a large Muslim community are relatively safe, but there are one or two that are not quite so safe,\" Professor Curtice said.The constituencies where Labour was most at risk from a Muslim tactical vote were Bethnal Green, in east London, and Rochdale in Lancashire, he added.But Professor Curtice said the Muslim anti-war vote could be split between the Liberal Democrats and Respect, meaning neither would benefit much at the ballot box.\"We know the next government will be Labour, but we are aiming to send a message that it will make a difference if the Muslims use their vote properly.\"If the next Labour government has a reduced majority that's a great achievement because having a very big majority has been very harmful for politics in this country,\" Dr Tamimi said.\n",
      "---------------------------------------\n",
      "Sumarizarea produse de TF-IDF, cu unigrame:\n",
      "Muslims discuss election concerns\n",
      "Issues that Muslims should be considering before voting in the next general election are to be debated by UK community representatives.\n",
      "The event is being held by the Muslim Association of Britain (MAB), which believes Muslim voters could influence the result in up to 50 constituencies.Last year MAB, which opposed the war in Iraq, urged Muslims not to vote for Labour in the European elections.But a spokesman stressed the meeting was \"not necessarily anti-Labour\".\"This meeting is not anti-party in particular, it's anti-policy, it's on the issues we are going to ask Muslims to vote on,\" MAB spokesman Dr Azzam Tamimi said of Tuesday's event.\"There are issues of concern to Muslims, and Muslims generally agree on them but have not in the past been aware of how a vote can serve these issues.\"Dr Tamimi said the main issues Muslims should consider were what he referred to as the war on Iraq, the Palestinian situation, the erosion of civil liberties for Muslims in the UK and economic, social and education problems.Approximately 1.1m of the UK's 1.6m Muslims are of voting age.Previous election research has shown the overwhelming majority have traditionally voted Labour, but more recent studies have suggested Labour support has been falling away significantly among some Muslim voters.\n",
      "Anger over the war in Iraq has appeared to be the main reason, with many saying it was \"unjustified\".Representatives from a number of Muslim organisations will attend Tuesday's event.Among them will be the Muslim Council of Britain (MCB).The chairman of the MCB's public affairs committee, Sher Khan, said the war in Iraq would be a \"significant factor\" affecting Muslims' voting intentions.\"I think it's going to be quite significant because of the number of seats in which they could have an impact,\" Mr Khan said.However, Professor John Curtice, of the University of Strathclyde, is sceptical about how much difference tactical voting by Muslims could make.\"For the most part the Labour constituencies where there's a large Muslim community are relatively safe, but there are one or two that are not quite so safe,\" Professor Curtice said.The constituencies where Labour was most at risk from a Muslim tactical vote were Bethnal Green, in east London, and Rochdale in Lancashire, he added.In Bethnal Green, former Labour MP George Galloway, who founded the anti-war party Respect, is standing against sitting MP Oona King, who had a 10,000-vote majority in 2001.In Rochdale, the Liberal Democrats - the mainstream party a 2004 ICM survey showed was benefiting most from Muslim disaffection with Labour - secured second place in the 2001 election, securing just under 6,000 votes fewer than Labour's Lorna Fitzsimons.But Professor Curtice said the Muslim anti-war vote could be split between the Liberal Democrats and Respect, meaning neither would benefit much at the ballot box.\"Ironically the Tories might be the beneficiaries if Labour does lose seats, which is generally the case,\" he said.But Dr Tamimi said MAB's intention was not to \"empower\" the Tories.\"We know the next government will be Labour, but we are aiming to send a message that it will make a difference if the Muslims use their vote properly.\"If the next Labour government has a reduced majority that's a great achievement because having a very big majority has been very harmful for politics in this country,\" Dr Tamimi said.\n",
      "---------------------------------------\n",
      "Sumarizarea produse de TF-IDF, cu unigrame, doar substantive:\n",
      "Muslims discuss election concerns\n",
      "Issues that Muslims should be considering before voting in the next general election are to be debated by UK community representatives.\n",
      "The event is being held by the Muslim Association of Britain (MAB), which believes Muslim voters could influence the result in up to 50 constituencies.Last year MAB, which opposed the war in Iraq, urged Muslims not to vote for Labour in the European elections.But a spokesman stressed the meeting was \"not necessarily anti-Labour\".\"This meeting is not anti-party in particular, it's anti-policy, it's on the issues we are going to ask Muslims to vote on,\" MAB spokesman Dr Azzam Tamimi said of Tuesday's event.\"There are issues of concern to Muslims, and Muslims generally agree on them but have not in the past been aware of how a vote can serve these issues.\"Dr Tamimi said the main issues Muslims should consider were what he referred to as the war on Iraq, the Palestinian situation, the erosion of civil liberties for Muslims in the UK and economic, social and education problems.Approximately 1.1m of the UK's 1.6m Muslims are of voting age.Previous election research has shown the overwhelming majority have traditionally voted Labour, but more recent studies have suggested Labour support has been falling away significantly among some Muslim voters.\n",
      "Anger over the war in Iraq has appeared to be the main reason, with many saying it was \"unjustified\".Representatives from a number of Muslim organisations will attend Tuesday's event.Among them will be the Muslim Council of Britain (MCB).The chairman of the MCB's public affairs committee, Sher Khan, said the war in Iraq would be a \"significant factor\" affecting Muslims' voting intentions.\"I think it's going to be quite significant because of the number of seats in which they could have an impact,\" Mr Khan said.However, Professor John Curtice, of the University of Strathclyde, is sceptical about how much difference tactical voting by Muslims could make.\"For the most part the Labour constituencies where there's a large Muslim community are relatively safe, but there are one or two that are not quite so safe,\" Professor Curtice said.The constituencies where Labour was most at risk from a Muslim tactical vote were Bethnal Green, in east London, and Rochdale in Lancashire, he added.In Bethnal Green, former Labour MP George Galloway, who founded the anti-war party Respect, is standing against sitting MP Oona King, who had a 10,000-vote majority in 2001.In Rochdale, the Liberal Democrats - the mainstream party a 2004 ICM survey showed was benefiting most from Muslim disaffection with Labour - secured second place in the 2001 election, securing just under 6,000 votes fewer than Labour's Lorna Fitzsimons.But Professor Curtice said the Muslim anti-war vote could be split between the Liberal Democrats and Respect, meaning neither would benefit much at the ballot box.\"Ironically the Tories might be the beneficiaries if Labour does lose seats, which is generally the case,\" he said.But Dr Tamimi said MAB's intention was not to \"empower\" the Tories.\"We know the next government will be Labour, but we are aiming to send a message that it will make a difference if the Muslims use their vote properly.\"If the next Labour government has a reduced majority that's a great achievement because having a very big majority has been very harmful for politics in this country,\" Dr Tamimi said.\n",
      "---------------------------------------\n",
      "Sumarizarea produse de TF-IDF, cu unigrame, doar substantive, similaritate cu titlu:\n",
      "Muslims discuss election concerns\n",
      "Issues that Muslims should be considering before voting in the next general election are to be debated by UK community representatives.\n",
      "The event is being held by the Muslim Association of Britain (MAB), which believes Muslim voters could influence the result in up to 50 constituencies.Last year MAB, which opposed the war in Iraq, urged Muslims not to vote for Labour in the European elections.But a spokesman stressed the meeting was \"not necessarily anti-Labour\".\"This meeting is not anti-party in particular, it's anti-policy, it's on the issues we are going to ask Muslims to vote on,\" MAB spokesman Dr Azzam Tamimi said of Tuesday's event.\"There are issues of concern to Muslims, and Muslims generally agree on them but have not in the past been aware of how a vote can serve these issues.\"Dr Tamimi said the main issues Muslims should consider were what he referred to as the war on Iraq, the Palestinian situation, the erosion of civil liberties for Muslims in the UK and economic, social and education problems.Approximately 1.1m of the UK's 1.6m Muslims are of voting age.Previous election research has shown the overwhelming majority have traditionally voted Labour, but more recent studies have suggested Labour support has been falling away significantly among some Muslim voters.\n",
      "Anger over the war in Iraq has appeared to be the main reason, with many saying it was \"unjustified\".Representatives from a number of Muslim organisations will attend Tuesday's event.Among them will be the Muslim Council of Britain (MCB).The chairman of the MCB's public affairs committee, Sher Khan, said the war in Iraq would be a \"significant factor\" affecting Muslims' voting intentions.\"I think it's going to be quite significant because of the number of seats in which they could have an impact,\" Mr Khan said.However, Professor John Curtice, of the University of Strathclyde, is sceptical about how much difference tactical voting by Muslims could make.\"For the most part the Labour constituencies where there's a large Muslim community are relatively safe, but there are one or two that are not quite so safe,\" Professor Curtice said.The constituencies where Labour was most at risk from a Muslim tactical vote were Bethnal Green, in east London, and Rochdale in Lancashire, he added.In Bethnal Green, former Labour MP George Galloway, who founded the anti-war party Respect, is standing against sitting MP Oona King, who had a 10,000-vote majority in 2001.In Rochdale, the Liberal Democrats - the mainstream party a 2004 ICM survey showed was benefiting most from Muslim disaffection with Labour - secured second place in the 2001 election, securing just under 6,000 votes fewer than Labour's Lorna Fitzsimons.But Professor Curtice said the Muslim anti-war vote could be split between the Liberal Democrats and Respect, meaning neither would benefit much at the ballot box.\"Ironically the Tories might be the beneficiaries if Labour does lose seats, which is generally the case,\" he said.But Dr Tamimi said MAB's intention was not to \"empower\" the Tories.\"We know the next government will be Labour, but we are aiming to send a message that it will make a difference if the Muslims use their vote properly.\"If the next Labour government has a reduced majority that's a great achievement because having a very big majority has been very harmful for politics in this country,\" Dr Tamimi said.\n",
      "---------------------------------------\n",
      "Sumarizarea produse de TF-IDF, cu unigrame, doar substantive, similaritate cu title, pozitia in text:\n",
      "Muslims discuss election concerns\n",
      "Issues that Muslims should be considering before voting in the next general election are to be debated by UK community representatives.\n",
      "The event is being held by the Muslim Association of Britain (MAB), which believes Muslim voters could influence the result in up to 50 constituencies.Last year MAB, which opposed the war in Iraq, urged Muslims not to vote for Labour in the European elections.But a spokesman stressed the meeting was \"not necessarily anti-Labour\".\"This meeting is not anti-party in particular, it's anti-policy, it's on the issues we are going to ask Muslims to vote on,\" MAB spokesman Dr Azzam Tamimi said of Tuesday's event.\"There are issues of concern to Muslims, and Muslims generally agree on them but have not in the past been aware of how a vote can serve these issues.\"Dr Tamimi said the main issues Muslims should consider were what he referred to as the war on Iraq, the Palestinian situation, the erosion of civil liberties for Muslims in the UK and economic, social and education problems.Approximately 1.1m of the UK's 1.6m Muslims are of voting age.Previous election research has shown the overwhelming majority have traditionally voted Labour, but more recent studies have suggested Labour support has been falling away significantly among some Muslim voters.\n",
      "Anger over the war in Iraq has appeared to be the main reason, with many saying it was \"unjustified\".Representatives from a number of Muslim organisations will attend Tuesday's event.Among them will be the Muslim Council of Britain (MCB).The chairman of the MCB's public affairs committee, Sher Khan, said the war in Iraq would be a \"significant factor\" affecting Muslims' voting intentions.\"I think it's going to be quite significant because of the number of seats in which they could have an impact,\" Mr Khan said.However, Professor John Curtice, of the University of Strathclyde, is sceptical about how much difference tactical voting by Muslims could make.\"For the most part the Labour constituencies where there's a large Muslim community are relatively safe, but there are one or two that are not quite so safe,\" Professor Curtice said.The constituencies where Labour was most at risk from a Muslim tactical vote were Bethnal Green, in east London, and Rochdale in Lancashire, he added.In Bethnal Green, former Labour MP George Galloway, who founded the anti-war party Respect, is standing against sitting MP Oona King, who had a 10,000-vote majority in 2001.In Rochdale, the Liberal Democrats - the mainstream party a 2004 ICM survey showed was benefiting most from Muslim disaffection with Labour - secured second place in the 2001 election, securing just under 6,000 votes fewer than Labour's Lorna Fitzsimons.But Professor Curtice said the Muslim anti-war vote could be split between the Liberal Democrats and Respect, meaning neither would benefit much at the ballot box.\"Ironically the Tories might be the beneficiaries if Labour does lose seats, which is generally the case,\" he said.But Dr Tamimi said MAB's intention was not to \"empower\" the Tories.\"We know the next government will be Labour, but we are aiming to send a message that it will make a difference if the Muslims use their vote properly.\"If the next Labour government has a reduced majority that's a great achievement because having a very big majority has been very harmful for politics in this country,\" Dr Tamimi said.\n",
      "---------------------------------------\n",
      "Textul original:\n",
      "b'MP attacked by muggers in Kenya\\n\\nAn MP has had more than \\xc2\\xa3600 and his passport stolen after being mugged by six men in a park in Kenya.\\n\\nQuentin Davies, the MP for Grantham and Stamford, was attacked in a notoriously dangerous park in the capital, Nairobi. He was not hurt in the mugging on Saturday evening. Several people are being questioned over the attack. He was in Kenya before travelling to Sudan with the Parliamentary committee. Local police were said to be \"surprised\" he was in the area. Mr Davies, 60, said the mugging occurred 100 yards from the Nairobi Serena Hotel and equally close to the Anglican Cathedral in the centre of the city at dusk.\\n\\nHe said in a statement: \"It was a frightening experience. \"Six men managed to steal up on me and grab me from behind. \"I knew I had to stay very calm and passive - you cannot fight six men\". He had to spend an extra 24 hours in Nairobi before rejoining the rest of the House of Commons International Development Committee in Dafur after the mugging. \"Naturally, I was afraid they would use a knife or gun, though they never produced any weapon,\" he said. \"Two of them held me from behind and two others held my legs and another one expertly rifled all my pockets.\"\\n'\n",
      "---------------------------------------\n",
      "Sumarizarea reala:\n",
      "b'He said in a statement: \"It was a frightening experience.Local police were said to be \"surprised\" he was in the area.An MP has had more than \\xc2\\xa3600 and his passport stolen after being mugged by six men in a park in Kenya.He was not hurt in the mugging on Saturday evening.He was in Kenya before travelling to Sudan with the Parliamentary committee.Quentin Davies, the MP for Grantham and Stamford, was attacked in a notoriously dangerous park in the capital, Nairobi.'\n",
      "---------------------------------------\n",
      "Sumarizarea produse de Bayes, cu bigrame:\n",
      "An MP has had more than £600 and his passport stolen after being mugged by six men in a park in Kenya.Quentin Davies, the MP for Grantham and Stamford, was attacked in a notoriously dangerous park in the capital, Nairobi.He was not hurt in the mugging on Saturday evening.He was in Kenya before travelling to Sudan with the Parliamentary committee.Local police were said to be \"surprised\" he was in the area.He said in a statement: \"It was a frightening experience.\n",
      "---------------------------------------\n",
      "Sumarizarea produse de Bayes, cu bigrame, eliminare de stop words:\n",
      "An MP has had more than £600 and his passport stolen after being mugged by six men in a park in Kenya.Quentin Davies, the MP for Grantham and Stamford, was attacked in a notoriously dangerous park in the capital, Nairobi.He was not hurt in the mugging on Saturday evening.He was in Kenya before travelling to Sudan with the Parliamentary committee.Local police were said to be \"surprised\" he was in the area.He said in a statement: \"It was a frightening experience.\n",
      "---------------------------------------\n",
      "Sumarizarea produse de Bayes, cu bigrame, eliminare de stop words, lematizare:\n",
      "An MP has had more than £600 and his passport stolen after being mugged by six men in a park in Kenya.Quentin Davies, the MP for Grantham and Stamford, was attacked in a notoriously dangerous park in the capital, Nairobi.He was not hurt in the mugging on Saturday evening.He was in Kenya before travelling to Sudan with the Parliamentary committee.Local police were said to be \"surprised\" he was in the area.He said in a statement: \"It was a frightening experience.\n",
      "---------------------------------------\n",
      "Sumarizarea produse de TF-IDF, cu unigrame:\n",
      "MP attacked by muggers in Kenya\n",
      "An MP has had more than £600 and his passport stolen after being mugged by six men in a park in Kenya.Quentin Davies, the MP for Grantham and Stamford, was attacked in a notoriously dangerous park in the capital, Nairobi.He was not hurt in the mugging on Saturday evening.Several people are being questioned over the attack.He was in Kenya before travelling to Sudan with the Parliamentary committee.Local police were said to be \"surprised\" he was in the area.Mr Davies, 60, said the mugging occurred 100 yards from the Nairobi Serena Hotel and equally close to the Anglican Cathedral in the centre of the city at dusk.He said in a statement: \"It was a frightening experience.\"Six men managed to steal up on me and grab me from behind.\"I knew I had to stay very calm and passive - you cannot fight six men\".He had to spend an extra 24 hours in Nairobi before rejoining the rest of the House of Commons International Development Committee in Dafur after the mugging.\"Naturally, I was afraid they would use a knife or gun, though they never produced any weapon,\" he said.\"Two of them held me from behind and two others held my legs and another one expertly rifled all my pockets.\"\n",
      "\n",
      "---------------------------------------\n",
      "Sumarizarea produse de TF-IDF, cu unigrame, doar substantive:\n",
      "MP attacked by muggers in Kenya\n",
      "An MP has had more than £600 and his passport stolen after being mugged by six men in a park in Kenya.Quentin Davies, the MP for Grantham and Stamford, was attacked in a notoriously dangerous park in the capital, Nairobi.He was not hurt in the mugging on Saturday evening.Several people are being questioned over the attack.He was in Kenya before travelling to Sudan with the Parliamentary committee.Local police were said to be \"surprised\" he was in the area.Mr Davies, 60, said the mugging occurred 100 yards from the Nairobi Serena Hotel and equally close to the Anglican Cathedral in the centre of the city at dusk.He said in a statement: \"It was a frightening experience.He had to spend an extra 24 hours in Nairobi before rejoining the rest of the House of Commons International Development Committee in Dafur after the mugging.\"Naturally, I was afraid they would use a knife or gun, though they never produced any weapon,\" he said.\"Two of them held me from behind and two others held my legs and another one expertly rifled all my pockets.\"\n",
      "\n",
      "---------------------------------------\n",
      "Sumarizarea produse de TF-IDF, cu unigrame, doar substantive, similaritate cu titlu:\n",
      "MP attacked by muggers in Kenya\n",
      "An MP has had more than £600 and his passport stolen after being mugged by six men in a park in Kenya.Quentin Davies, the MP for Grantham and Stamford, was attacked in a notoriously dangerous park in the capital, Nairobi.He was not hurt in the mugging on Saturday evening.Several people are being questioned over the attack.He was in Kenya before travelling to Sudan with the Parliamentary committee.Local police were said to be \"surprised\" he was in the area.Mr Davies, 60, said the mugging occurred 100 yards from the Nairobi Serena Hotel and equally close to the Anglican Cathedral in the centre of the city at dusk.He said in a statement: \"It was a frightening experience.He had to spend an extra 24 hours in Nairobi before rejoining the rest of the House of Commons International Development Committee in Dafur after the mugging.\"Naturally, I was afraid they would use a knife or gun, though they never produced any weapon,\" he said.\"Two of them held me from behind and two others held my legs and another one expertly rifled all my pockets.\"\n",
      "\n",
      "---------------------------------------\n",
      "Sumarizarea produse de TF-IDF, cu unigrame, doar substantive, similaritate cu title, pozitia in text:\n",
      "MP attacked by muggers in Kenya\n",
      "An MP has had more than £600 and his passport stolen after being mugged by six men in a park in Kenya.Quentin Davies, the MP for Grantham and Stamford, was attacked in a notoriously dangerous park in the capital, Nairobi.He was not hurt in the mugging on Saturday evening.Several people are being questioned over the attack.He was in Kenya before travelling to Sudan with the Parliamentary committee.Local police were said to be \"surprised\" he was in the area.Mr Davies, 60, said the mugging occurred 100 yards from the Nairobi Serena Hotel and equally close to the Anglican Cathedral in the centre of the city at dusk.He said in a statement: \"It was a frightening experience.He had to spend an extra 24 hours in Nairobi before rejoining the rest of the House of Commons International Development Committee in Dafur after the mugging.\"Naturally, I was afraid they would use a knife or gun, though they never produced any weapon,\" he said.\"Two of them held me from behind and two others held my legs and another one expertly rifled all my pockets.\"\n",
      "\n",
      "---------------------------------------\n"
     ]
    }
   ],
   "source": [
    "print(\"Pentru 3 exemple din setul de antrenare\")\n",
    "print(\"---------------------------------------\")\n",
    "\n",
    "for i in range(0, 3):\n",
    "    print(\"Textul original:\")\n",
    "    with zipFile.open(news_train[POLITICS][i]) as f:\n",
    "        print(f.read())\n",
    "    print(\"---------------------------------------\")\n",
    "    \n",
    "    print(\"Sumarizarea reala:\")\n",
    "    with zipFile.open(summaries_train[POLITICS][i]) as f:\n",
    "        print(f.read())\n",
    "    print(\"---------------------------------------\")\n",
    "    \n",
    "    print(\"Sumarizarea produse de Bayes, cu bigrame:\")\n",
    "    print(summarize_bayes(training_bayes_1[POLITICS], news_train[POLITICS][i], 2, False, False)[0])\n",
    "    print(\"---------------------------------------\")\n",
    "    \n",
    "    print(\"Sumarizarea produse de Bayes, cu bigrame, eliminare de stop words:\")\n",
    "    print(summarize_bayes(training_bayes_2[POLITICS], news_train[POLITICS][i], 2, True, False)[0])\n",
    "    print(\"---------------------------------------\")\n",
    "    \n",
    "    print(\"Sumarizarea produse de Bayes, cu bigrame, eliminare de stop words, lematizare:\")\n",
    "    print(summarize_bayes(training_bayes_3[POLITICS], news_train[POLITICS][i], 2, True, True)[0])\n",
    "    print(\"---------------------------------------\")\n",
    "    \n",
    "    print(\"Sumarizarea produse de TF-IDF, cu unigrame:\")\n",
    "    print(summarize_tfidf(training_tfidf_1[POLITICS], news_train[POLITICS][i], 2, False, False, False)[0])\n",
    "    print(\"---------------------------------------\")\n",
    "    \n",
    "    print(\"Sumarizarea produse de TF-IDF, cu unigrame, doar substantive:\")\n",
    "    print(summarize_tfidf(training_tfidf_1[POLITICS], news_train[POLITICS][i], 2, True, False, False)[0])\n",
    "    print(\"---------------------------------------\")\n",
    "    \n",
    "    print(\"Sumarizarea produse de TF-IDF, cu unigrame, doar substantive, similaritate cu titlu:\")\n",
    "    print(summarize_tfidf(training_tfidf_1[POLITICS], news_train[POLITICS][i], 2, True, True, False)[0])\n",
    "    print(\"---------------------------------------\")\n",
    "    \n",
    "    print(\"Sumarizarea produse de TF-IDF, cu unigrame, doar substantive, similaritate cu title, pozitia in text:\")\n",
    "    print(summarize_tfidf(training_tfidf_1[POLITICS], news_train[POLITICS][i], 2, True, False, False)[0])\n",
    "    print(\"---------------------------------------\")"
   ]
  },
  {
   "cell_type": "markdown",
   "id": "06977f95",
   "metadata": {},
   "source": [
    "- Se observa ideea ce a mai fost exprimata anterioara, cand comparam valorile recall pentru cei 2 algoritmi: TF-IDF pastreaza mai multe propozitii decat Bayes pentru ca are un numar strict de propozitii ce trebuie pastrate, chiar daca relevante lor scade foarte mult.\n",
    "- TF-IDF pastreaza titlul. O posibila imbunatatire ar fi sa oprim acest lucru. Asta poate fi si un indicator ca ponderea pentru titlu este prea mare.\n",
    "- Sumarizarile obtinute de cele 2 modele sunt diferite, dar variantele din cadrul unui model au obtinut aceleasi rezumate."
   ]
  },
  {
   "cell_type": "code",
   "execution_count": 291,
   "id": "83b76879",
   "metadata": {},
   "outputs": [
    {
     "name": "stdout",
     "output_type": "stream",
     "text": [
      "Pentru 3 exemple din setul de test\n",
      "---------------------------------------\n",
      "Textul original:\n",
      "b'Brown in appeal for Labour unity\\n\\nGordon Brown has made an appeal for unity after reports claimed Mr Blair went back on a pledge to stand down before the next general election.\\n\\nThe chancellor would not comment on the reports, but insisted he would not be \"diverted or distracted\" from tackling the challenges faced by the country. His only \"motivation\" was to ensure Labour was re-elected, he insisted. Mr Blair earlier dismissed the claim he had reneged on a promise to stand aside for Gordon Brown as old news. According to a new book, Brown\\'s Britain by Sunday Telegraph journalist Robert Peston, Mr Blair went back on a pledge to make way for Mr Brown after Cabinet allies intervened in June 2004.\\n\\nIn an interview with BBC One\\'s Breakfast with Frost, Mr Blair said: \"I\\'ve dealt with this six months ago. I said then you don\\'t do deals over jobs like this - you don\\'t. \"What both of us are actually concentrating on are the issues that concern the country.\"\\n\\nIn a separate interview with BBC political editor Andrew Marr, Mr Brown said: \"It\\'s very important that we all do what we can in a unified way to ensure the election of a Labour government. \"I think it is very important to stress that that is the motivation that I have. \"That is my purpose in politics, and that is what every day I seek to do. And I am not going to be diverted or distracted, nor is Tony Blair, by newspaper stories or books or rumours or gossip. \"The only reason why we are in government is to get on with the job in a unified way to deal with the challenges facing this country.\" Mr Brown also said he had discussed the general election campaign with the prime minister on Saturday and pledged to play his part as he had been asked to do.\\n\\nBut Mr Peston said the pair had \"mutual animosity and contempt\" for each other and that Mr Blair had decided in November 2003 he would quit because he felt he had lost voters\\' trust because of the Iraq war. He then changed his mind in June 2004, following intervention from allies in the Cabinet and the suspicion that the chancellor was deliberately manoeuvring against him, according to the book. Andrew Marr said: \"This is enormously damaging. Gordon Brown knows it as well as Tony Blair. \"I think the relationship is genuinely, privately, very poor indeed. Things are very difficult.\" He added: \"Lots of ministers believe Tony Blair will attempt to move Gordon Brown out of the Treasury after the election. \"That depends on whether there\\'s still a Labour government and their majority.\"\\n\\nSenior MPs are expected to raise concerns about the latest reports of infighting at the regular meeting of Labour backbenchers on Monday.\\n\\nHealth Secretary John Reid said those fuelling such reports were damaging Labour\\'s re-election chances and would not be easily forgiven. Fresh speculation of a rift recently followed Mr Blair and Mr Brown\\'s separate responses to the Asian tsunami. These rumours were fuelled by Mr Blair\\'s decision to hold his monthly media conference at the same time as a long-planned speech by Mr Brown on UK plans to tackle global poverty with a new \"Marshall Plan\" for Africa. There was speculation the pair were trying to outdo each other\\'s response to the disaster. But the prime minister said he had discussed these claims with the chancellor and dismissed them as a \"load of nonsense\". Tory leader Michael Howard accused the prime minister and Mr Brown of\"squabbling like schoolboys\". Liberal Democrat parliamentary chairman Matthew Taylor said the personal ambition of Mr Blair and Mr Brown was \"getting in the way of good government\".\\n'\n",
      "---------------------------------------\n",
      "Sumarizarea reala:\n",
      "b'In a separate interview with BBC political editor Andrew Marr, Mr Brown said: \"It\\'s very important that we all do what we can in a unified way to ensure the election of a Labour government.Liberal Democrat parliamentary chairman Matthew Taylor said the personal ambition of Mr Blair and Mr Brown was \"getting in the way of good government\".According to a new book, Brown\\'s Britain by Sunday Telegraph journalist Robert Peston, Mr Blair went back on a pledge to make way for Mr Brown after Cabinet allies intervened in June 2004.But Mr Peston said the pair had \"mutual animosity and contempt\" for each other and that Mr Blair had decided in November 2003 he would quit because he felt he had lost voters\\' trust because of the Iraq war.Mr Brown also said he had discussed the general election campaign with the prime minister on Saturday and pledged to play his part as he had been asked to do.Gordon Brown has made an appeal for unity after reports claimed Mr Blair went back on a pledge to stand down before the next general election.Mr Blair earlier dismissed the claim he had reneged on a promise to stand aside for Gordon Brown as old news.Fresh speculation of a rift recently followed Mr Blair and Mr Brown\\'s separate responses to the Asian tsunami.In an interview with BBC One\\'s Breakfast with Frost, Mr Blair said: \"I\\'ve dealt with this six months ago.Gordon Brown knows it as well as Tony Blair.He added: \"Lots of ministers believe Tony Blair will attempt to move Gordon Brown out of the Treasury after the election.Tory leader Michael Howard accused the prime minister and Mr Brown of\"squabbling like schoolboys\".'\n",
      "---------------------------------------\n",
      "Sumarizarea produse de Bayes, cu bigrame:\n",
      "Brown in appeal for Labour unity\n",
      "Gordon Brown has made an appeal for unity after reports claimed Mr Blair went back on a pledge to stand down before the next general election.The chancellor would not comment on the reports, but insisted he would not be \"diverted or distracted\" from tackling the challenges faced by the country.His only \"motivation\" was to ensure Labour was re-elected, he insisted.Mr Blair earlier dismissed the claim he had reneged on a promise to stand aside for Gordon Brown as old news.According to a new book, Brown's Britain by Sunday Telegraph journalist Robert Peston, Mr Blair went back on a pledge to make way for Mr Brown after Cabinet allies intervened in June 2004.In a separate interview with BBC political editor Andrew Marr, Mr Brown said: \"It's very important that we all do what we can in a unified way to ensure the election of a Labour government.\"The only reason why we are in government is to get on with the job in a unified way to deal with the challenges facing this country.\"Mr Brown also said he had discussed the general election campaign with the prime minister on Saturday and pledged to play his part as he had been asked to do.But Mr Peston said the pair had \"mutual animosity and contempt\" for each other and that Mr Blair had decided in November 2003 he would quit because he felt he had lost voters' trust because of the Iraq war.Things are very difficult.\"\"That depends on whether there's still a Labour government and their majority.\"\n",
      "Health Secretary John Reid said those fuelling such reports were damaging Labour's re-election chances and would not be easily forgiven.Fresh speculation of a rift recently followed Mr Blair and Mr Brown's separate responses to the Asian tsunami.But the prime minister said he had discussed these claims with the chancellor and dismissed them as a \"load of nonsense\".Tory leader Michael Howard accused the prime minister and Mr Brown of\"squabbling like schoolboys\".Liberal Democrat parliamentary chairman Matthew Taylor said the personal ambition of Mr Blair and Mr Brown was \"getting in the way of good government\".\n",
      "\n",
      "---------------------------------------\n",
      "Sumarizarea produse de Bayes, cu bigrame, eliminare de stop words:\n",
      "Brown in appeal for Labour unity\n",
      "Gordon Brown has made an appeal for unity after reports claimed Mr Blair went back on a pledge to stand down before the next general election.The chancellor would not comment on the reports, but insisted he would not be \"diverted or distracted\" from tackling the challenges faced by the country.His only \"motivation\" was to ensure Labour was re-elected, he insisted.Mr Blair earlier dismissed the claim he had reneged on a promise to stand aside for Gordon Brown as old news.According to a new book, Brown's Britain by Sunday Telegraph journalist Robert Peston, Mr Blair went back on a pledge to make way for Mr Brown after Cabinet allies intervened in June 2004.In an interview with BBC One's Breakfast with Frost, Mr Blair said: \"I've dealt with this six months ago.In a separate interview with BBC political editor Andrew Marr, Mr Brown said: \"It's very important that we all do what we can in a unified way to ensure the election of a Labour government.\"I think it is very important to stress that that is the motivation that I have.\"That is my purpose in politics, and that is what every day I seek to do.Mr Brown also said he had discussed the general election campaign with the prime minister on Saturday and pledged to play his part as he had been asked to do.Andrew Marr said: \"This is enormously damaging.Gordon Brown knows it as well as Tony Blair.Things are very difficult.\"Senior MPs are expected to raise concerns about the latest reports of infighting at the regular meeting of Labour backbenchers on Monday.But the prime minister said he had discussed these claims with the chancellor and dismissed them as a \"load of nonsense\".Tory leader Michael Howard accused the prime minister and Mr Brown of\"squabbling like schoolboys\".Liberal Democrat parliamentary chairman Matthew Taylor said the personal ambition of Mr Blair and Mr Brown was \"getting in the way of good government\".\n",
      "\n",
      "---------------------------------------\n",
      "Sumarizarea produse de Bayes, cu bigrame, eliminare de stop words, lematizare:\n",
      "Brown in appeal for Labour unity\n",
      "Gordon Brown has made an appeal for unity after reports claimed Mr Blair went back on a pledge to stand down before the next general election.The chancellor would not comment on the reports, but insisted he would not be \"diverted or distracted\" from tackling the challenges faced by the country.His only \"motivation\" was to ensure Labour was re-elected, he insisted.Mr Blair earlier dismissed the claim he had reneged on a promise to stand aside for Gordon Brown as old news.According to a new book, Brown's Britain by Sunday Telegraph journalist Robert Peston, Mr Blair went back on a pledge to make way for Mr Brown after Cabinet allies intervened in June 2004.In a separate interview with BBC political editor Andrew Marr, Mr Brown said: \"It's very important that we all do what we can in a unified way to ensure the election of a Labour government.\"I think it is very important to stress that that is the motivation that I have.\"That is my purpose in politics, and that is what every day I seek to do.Mr Brown also said he had discussed the general election campaign with the prime minister on Saturday and pledged to play his part as he had been asked to do.Andrew Marr said: \"This is enormously damaging.Gordon Brown knows it as well as Tony Blair.But the prime minister said he had discussed these claims with the chancellor and dismissed them as a \"load of nonsense\".Tory leader Michael Howard accused the prime minister and Mr Brown of\"squabbling like schoolboys\".Liberal Democrat parliamentary chairman Matthew Taylor said the personal ambition of Mr Blair and Mr Brown was \"getting in the way of good government\".\n",
      "\n",
      "---------------------------------------\n",
      "Sumarizarea produse de TF-IDF, cu unigrame:\n",
      "Brown in appeal for Labour unity\n",
      "Gordon Brown has made an appeal for unity after reports claimed Mr Blair went back on a pledge to stand down before the next general election.The chancellor would not comment on the reports, but insisted he would not be \"diverted or distracted\" from tackling the challenges faced by the country.His only \"motivation\" was to ensure Labour was re-elected, he insisted.Mr Blair earlier dismissed the claim he had reneged on a promise to stand aside for Gordon Brown as old news.According to a new book, Brown's Britain by Sunday Telegraph journalist Robert Peston, Mr Blair went back on a pledge to make way for Mr Brown after Cabinet allies intervened in June 2004.In an interview with BBC One's Breakfast with Frost, Mr Blair said: \"I've dealt with this six months ago.I said then you don't do deals over jobs like this - you don't.\"What both of us are actually concentrating on are the issues that concern the country.\"\n",
      "In a separate interview with BBC political editor Andrew Marr, Mr Brown said: \"It's very important that we all do what we can in a unified way to ensure the election of a Labour government.\"I think it is very important to stress that that is the motivation that I have.\"That is my purpose in politics, and that is what every day I seek to do.And I am not going to be diverted or distracted, nor is Tony Blair, by newspaper stories or books or rumours or gossip.\"The only reason why we are in government is to get on with the job in a unified way to deal with the challenges facing this country.\"Mr Brown also said he had discussed the general election campaign with the prime minister on Saturday and pledged to play his part as he had been asked to do.But Mr Peston said the pair had \"mutual animosity and contempt\" for each other and that Mr Blair had decided in November 2003 he would quit because he felt he had lost voters' trust because of the Iraq war.He then changed his mind in June 2004, following intervention from allies in the Cabinet and the suspicion that the chancellor was deliberately manoeuvring against him, according to the book.Andrew Marr said: \"This is enormously damaging.Gordon Brown knows it as well as Tony Blair.\"I think the relationship is genuinely, privately, very poor indeed.Things are very difficult.\"He added: \"Lots of ministers believe Tony Blair will attempt to move Gordon Brown out of the Treasury after the election.\"That depends on whether there's still a Labour government and their majority.\"\n",
      "Senior MPs are expected to raise concerns about the latest reports of infighting at the regular meeting of Labour backbenchers on Monday.Health Secretary John Reid said those fuelling such reports were damaging Labour's re-election chances and would not be easily forgiven.Fresh speculation of a rift recently followed Mr Blair and Mr Brown's separate responses to the Asian tsunami.These rumours were fuelled by Mr Blair's decision to hold his monthly media conference at the same time as a long-planned speech by Mr Brown on UK plans to tackle global poverty with a new \"Marshall Plan\" for Africa.There was speculation the pair were trying to outdo each other's response to the disaster.But the prime minister said he had discussed these claims with the chancellor and dismissed them as a \"load of nonsense\".Tory leader Michael Howard accused the prime minister and Mr Brown of\"squabbling like schoolboys\".Liberal Democrat parliamentary chairman Matthew Taylor said the personal ambition of Mr Blair and Mr Brown was \"getting in the way of good government\".\n",
      "\n",
      "---------------------------------------\n",
      "Sumarizarea produse de TF-IDF, cu unigrame, doar substantive:\n",
      "Brown in appeal for Labour unity\n",
      "Gordon Brown has made an appeal for unity after reports claimed Mr Blair went back on a pledge to stand down before the next general election.The chancellor would not comment on the reports, but insisted he would not be \"diverted or distracted\" from tackling the challenges faced by the country.His only \"motivation\" was to ensure Labour was re-elected, he insisted.Mr Blair earlier dismissed the claim he had reneged on a promise to stand aside for Gordon Brown as old news.According to a new book, Brown's Britain by Sunday Telegraph journalist Robert Peston, Mr Blair went back on a pledge to make way for Mr Brown after Cabinet allies intervened in June 2004.In an interview with BBC One's Breakfast with Frost, Mr Blair said: \"I've dealt with this six months ago.I said then you don't do deals over jobs like this - you don't.\"What both of us are actually concentrating on are the issues that concern the country.\"\n",
      "In a separate interview with BBC political editor Andrew Marr, Mr Brown said: \"It's very important that we all do what we can in a unified way to ensure the election of a Labour government.\"That is my purpose in politics, and that is what every day I seek to do.And I am not going to be diverted or distracted, nor is Tony Blair, by newspaper stories or books or rumours or gossip.\"The only reason why we are in government is to get on with the job in a unified way to deal with the challenges facing this country.\"Mr Brown also said he had discussed the general election campaign with the prime minister on Saturday and pledged to play his part as he had been asked to do.But Mr Peston said the pair had \"mutual animosity and contempt\" for each other and that Mr Blair had decided in November 2003 he would quit because he felt he had lost voters' trust because of the Iraq war.He then changed his mind in June 2004, following intervention from allies in the Cabinet and the suspicion that the chancellor was deliberately manoeuvring against him, according to the book.Andrew Marr said: \"This is enormously damaging.Gordon Brown knows it as well as Tony Blair.He added: \"Lots of ministers believe Tony Blair will attempt to move Gordon Brown out of the Treasury after the election.\"That depends on whether there's still a Labour government and their majority.\"\n",
      "Senior MPs are expected to raise concerns about the latest reports of infighting at the regular meeting of Labour backbenchers on Monday.Health Secretary John Reid said those fuelling such reports were damaging Labour's re-election chances and would not be easily forgiven.Fresh speculation of a rift recently followed Mr Blair and Mr Brown's separate responses to the Asian tsunami.These rumours were fuelled by Mr Blair's decision to hold his monthly media conference at the same time as a long-planned speech by Mr Brown on UK plans to tackle global poverty with a new \"Marshall Plan\" for Africa.There was speculation the pair were trying to outdo each other's response to the disaster.But the prime minister said he had discussed these claims with the chancellor and dismissed them as a \"load of nonsense\".Tory leader Michael Howard accused the prime minister and Mr Brown of\"squabbling like schoolboys\".Liberal Democrat parliamentary chairman Matthew Taylor said the personal ambition of Mr Blair and Mr Brown was \"getting in the way of good government\".\n",
      "\n",
      "---------------------------------------\n",
      "Sumarizarea produse de TF-IDF, cu unigrame, doar substantive, similaritate cu titlu:\n",
      "Brown in appeal for Labour unity\n",
      "Gordon Brown has made an appeal for unity after reports claimed Mr Blair went back on a pledge to stand down before the next general election.The chancellor would not comment on the reports, but insisted he would not be \"diverted or distracted\" from tackling the challenges faced by the country.His only \"motivation\" was to ensure Labour was re-elected, he insisted.Mr Blair earlier dismissed the claim he had reneged on a promise to stand aside for Gordon Brown as old news.According to a new book, Brown's Britain by Sunday Telegraph journalist Robert Peston, Mr Blair went back on a pledge to make way for Mr Brown after Cabinet allies intervened in June 2004.In an interview with BBC One's Breakfast with Frost, Mr Blair said: \"I've dealt with this six months ago.I said then you don't do deals over jobs like this - you don't.\"What both of us are actually concentrating on are the issues that concern the country.\"\n",
      "In a separate interview with BBC political editor Andrew Marr, Mr Brown said: \"It's very important that we all do what we can in a unified way to ensure the election of a Labour government.\"That is my purpose in politics, and that is what every day I seek to do.And I am not going to be diverted or distracted, nor is Tony Blair, by newspaper stories or books or rumours or gossip.\"The only reason why we are in government is to get on with the job in a unified way to deal with the challenges facing this country.\"Mr Brown also said he had discussed the general election campaign with the prime minister on Saturday and pledged to play his part as he had been asked to do.But Mr Peston said the pair had \"mutual animosity and contempt\" for each other and that Mr Blair had decided in November 2003 he would quit because he felt he had lost voters' trust because of the Iraq war.He then changed his mind in June 2004, following intervention from allies in the Cabinet and the suspicion that the chancellor was deliberately manoeuvring against him, according to the book.Andrew Marr said: \"This is enormously damaging.Gordon Brown knows it as well as Tony Blair.He added: \"Lots of ministers believe Tony Blair will attempt to move Gordon Brown out of the Treasury after the election.\"That depends on whether there's still a Labour government and their majority.\"\n",
      "Senior MPs are expected to raise concerns about the latest reports of infighting at the regular meeting of Labour backbenchers on Monday.Health Secretary John Reid said those fuelling such reports were damaging Labour's re-election chances and would not be easily forgiven.Fresh speculation of a rift recently followed Mr Blair and Mr Brown's separate responses to the Asian tsunami.These rumours were fuelled by Mr Blair's decision to hold his monthly media conference at the same time as a long-planned speech by Mr Brown on UK plans to tackle global poverty with a new \"Marshall Plan\" for Africa.There was speculation the pair were trying to outdo each other's response to the disaster.But the prime minister said he had discussed these claims with the chancellor and dismissed them as a \"load of nonsense\".Tory leader Michael Howard accused the prime minister and Mr Brown of\"squabbling like schoolboys\".Liberal Democrat parliamentary chairman Matthew Taylor said the personal ambition of Mr Blair and Mr Brown was \"getting in the way of good government\".\n",
      "\n",
      "---------------------------------------\n",
      "Sumarizarea produse de TF-IDF, cu unigrame, doar substantive, similaritate cu title, pozitia in text:\n",
      "Brown in appeal for Labour unity\n",
      "Gordon Brown has made an appeal for unity after reports claimed Mr Blair went back on a pledge to stand down before the next general election.The chancellor would not comment on the reports, but insisted he would not be \"diverted or distracted\" from tackling the challenges faced by the country.His only \"motivation\" was to ensure Labour was re-elected, he insisted.Mr Blair earlier dismissed the claim he had reneged on a promise to stand aside for Gordon Brown as old news.According to a new book, Brown's Britain by Sunday Telegraph journalist Robert Peston, Mr Blair went back on a pledge to make way for Mr Brown after Cabinet allies intervened in June 2004.In an interview with BBC One's Breakfast with Frost, Mr Blair said: \"I've dealt with this six months ago.I said then you don't do deals over jobs like this - you don't.\"What both of us are actually concentrating on are the issues that concern the country.\"\n",
      "In a separate interview with BBC political editor Andrew Marr, Mr Brown said: \"It's very important that we all do what we can in a unified way to ensure the election of a Labour government.\"That is my purpose in politics, and that is what every day I seek to do.And I am not going to be diverted or distracted, nor is Tony Blair, by newspaper stories or books or rumours or gossip.\"The only reason why we are in government is to get on with the job in a unified way to deal with the challenges facing this country.\"Mr Brown also said he had discussed the general election campaign with the prime minister on Saturday and pledged to play his part as he had been asked to do.But Mr Peston said the pair had \"mutual animosity and contempt\" for each other and that Mr Blair had decided in November 2003 he would quit because he felt he had lost voters' trust because of the Iraq war.He then changed his mind in June 2004, following intervention from allies in the Cabinet and the suspicion that the chancellor was deliberately manoeuvring against him, according to the book.Andrew Marr said: \"This is enormously damaging.Gordon Brown knows it as well as Tony Blair.He added: \"Lots of ministers believe Tony Blair will attempt to move Gordon Brown out of the Treasury after the election.\"That depends on whether there's still a Labour government and their majority.\"\n",
      "Senior MPs are expected to raise concerns about the latest reports of infighting at the regular meeting of Labour backbenchers on Monday.Health Secretary John Reid said those fuelling such reports were damaging Labour's re-election chances and would not be easily forgiven.Fresh speculation of a rift recently followed Mr Blair and Mr Brown's separate responses to the Asian tsunami.These rumours were fuelled by Mr Blair's decision to hold his monthly media conference at the same time as a long-planned speech by Mr Brown on UK plans to tackle global poverty with a new \"Marshall Plan\" for Africa.There was speculation the pair were trying to outdo each other's response to the disaster.But the prime minister said he had discussed these claims with the chancellor and dismissed them as a \"load of nonsense\".Tory leader Michael Howard accused the prime minister and Mr Brown of\"squabbling like schoolboys\".Liberal Democrat parliamentary chairman Matthew Taylor said the personal ambition of Mr Blair and Mr Brown was \"getting in the way of good government\".\n",
      "\n",
      "---------------------------------------\n",
      "Textul original:\n",
      "b'MPs assess Scots fishing industry\\n\\nA group of MPs are on a two-day fact-finding mission to Scotland to gather evidence for a report into the UK\\'s fishing industry.\\n\\nMembers of Westminster\\'s environment, food and rural affairs committee will be touring fish markets and talking to fish processors. They will also talk to Fisheries Minister Ross Finnie and scientists. MPs are deciding whether to recommend a new system of \"community quotas\" to conserve fish stocks. The aim is that fishing ports like Peterhead or Fraserburgh would be allocated a quota and local people would decide how to fish it. The scheme is a variation on the local management committees already being established by the European Union.\\n\\nDetails are contained in a Royal Commission report for the UK Government, along with the more controversial idea of closing some mixed fishing grounds completely. Six members of the committee will be in Scotland to seek views from fishermen and processors in Aberdeen and Peterhead. They will also speak to Mr Finnie, representatives of the Royal Society and the Sea Fish Industry Authority. Committee chairman Austin Mitchell said some way has to be found of harvesting mixed fisheries without wasting stocks.\\n'\n",
      "---------------------------------------\n",
      "Sumarizarea reala:\n",
      "b\"They will also speak to Mr Finnie, representatives of the Royal Society and the Sea Fish Industry Authority.Members of Westminster's environment, food and rural affairs committee will be touring fish markets and talking to fish processors.The aim is that fishing ports like Peterhead or Fraserburgh would be allocated a quota and local people would decide how to fish it.A group of MPs are on a two-day fact-finding mission to Scotland to gather evidence for a report into the UK's fishing industry.\"\n",
      "---------------------------------------\n",
      "Sumarizarea produse de Bayes, cu bigrame:\n",
      "MPs assess Scots fishing industry\n",
      "A group of MPs are on a two-day fact-finding mission to Scotland to gather evidence for a report into the UK's fishing industry.They will also talk to Fisheries Minister Ross Finnie and scientists.MPs are deciding whether to recommend a new system of \"community quotas\" to conserve fish stocks.The scheme is a variation on the local management committees already being established by the European Union.\n",
      "Details are contained in a Royal Commission report for the UK Government, along with the more controversial idea of closing some mixed fishing grounds completely.Six members of the committee will be in Scotland to seek views from fishermen and processors in Aberdeen and Peterhead.They will also speak to Mr Finnie, representatives of the Royal Society and the Sea Fish Industry Authority.\n",
      "---------------------------------------\n",
      "Sumarizarea produse de Bayes, cu bigrame, eliminare de stop words:\n",
      "MPs assess Scots fishing industry\n",
      "A group of MPs are on a two-day fact-finding mission to Scotland to gather evidence for a report into the UK's fishing industry.They will also talk to Fisheries Minister Ross Finnie and scientists.MPs are deciding whether to recommend a new system of \"community quotas\" to conserve fish stocks.The aim is that fishing ports like Peterhead or Fraserburgh would be allocated a quota and local people would decide how to fish it.Details are contained in a Royal Commission report for the UK Government, along with the more controversial idea of closing some mixed fishing grounds completely.Six members of the committee will be in Scotland to seek views from fishermen and processors in Aberdeen and Peterhead.They will also speak to Mr Finnie, representatives of the Royal Society and the Sea Fish Industry Authority.Committee chairman Austin Mitchell said some way has to be found of harvesting mixed fisheries without wasting stocks.\n",
      "---------------------------------------\n",
      "Sumarizarea produse de Bayes, cu bigrame, eliminare de stop words, lematizare:\n",
      "MPs assess Scots fishing industry\n",
      "A group of MPs are on a two-day fact-finding mission to Scotland to gather evidence for a report into the UK's fishing industry.They will also talk to Fisheries Minister Ross Finnie and scientists.MPs are deciding whether to recommend a new system of \"community quotas\" to conserve fish stocks.The aim is that fishing ports like Peterhead or Fraserburgh would be allocated a quota and local people would decide how to fish it.Details are contained in a Royal Commission report for the UK Government, along with the more controversial idea of closing some mixed fishing grounds completely.Six members of the committee will be in Scotland to seek views from fishermen and processors in Aberdeen and Peterhead.They will also speak to Mr Finnie, representatives of the Royal Society and the Sea Fish Industry Authority.Committee chairman Austin Mitchell said some way has to be found of harvesting mixed fisheries without wasting stocks.\n",
      "---------------------------------------\n",
      "Sumarizarea produse de TF-IDF, cu unigrame:\n",
      "MPs assess Scots fishing industry\n",
      "A group of MPs are on a two-day fact-finding mission to Scotland to gather evidence for a report into the UK's fishing industry.Members of Westminster's environment, food and rural affairs committee will be touring fish markets and talking to fish processors.They will also talk to Fisheries Minister Ross Finnie and scientists.MPs are deciding whether to recommend a new system of \"community quotas\" to conserve fish stocks.The aim is that fishing ports like Peterhead or Fraserburgh would be allocated a quota and local people would decide how to fish it.The scheme is a variation on the local management committees already being established by the European Union.\n",
      "Details are contained in a Royal Commission report for the UK Government, along with the more controversial idea of closing some mixed fishing grounds completely.Six members of the committee will be in Scotland to seek views from fishermen and processors in Aberdeen and Peterhead.They will also speak to Mr Finnie, representatives of the Royal Society and the Sea Fish Industry Authority.Committee chairman Austin Mitchell said some way has to be found of harvesting mixed fisheries without wasting stocks.\n",
      "---------------------------------------\n",
      "Sumarizarea produse de TF-IDF, cu unigrame, doar substantive:\n",
      "MPs assess Scots fishing industry\n",
      "A group of MPs are on a two-day fact-finding mission to Scotland to gather evidence for a report into the UK's fishing industry.Members of Westminster's environment, food and rural affairs committee will be touring fish markets and talking to fish processors.They will also talk to Fisheries Minister Ross Finnie and scientists.MPs are deciding whether to recommend a new system of \"community quotas\" to conserve fish stocks.The aim is that fishing ports like Peterhead or Fraserburgh would be allocated a quota and local people would decide how to fish it.The scheme is a variation on the local management committees already being established by the European Union.\n",
      "Details are contained in a Royal Commission report for the UK Government, along with the more controversial idea of closing some mixed fishing grounds completely.Six members of the committee will be in Scotland to seek views from fishermen and processors in Aberdeen and Peterhead.They will also speak to Mr Finnie, representatives of the Royal Society and the Sea Fish Industry Authority.Committee chairman Austin Mitchell said some way has to be found of harvesting mixed fisheries without wasting stocks.\n",
      "---------------------------------------\n",
      "Sumarizarea produse de TF-IDF, cu unigrame, doar substantive, similaritate cu titlu:\n",
      "MPs assess Scots fishing industry\n",
      "A group of MPs are on a two-day fact-finding mission to Scotland to gather evidence for a report into the UK's fishing industry.Members of Westminster's environment, food and rural affairs committee will be touring fish markets and talking to fish processors.They will also talk to Fisheries Minister Ross Finnie and scientists.MPs are deciding whether to recommend a new system of \"community quotas\" to conserve fish stocks.The aim is that fishing ports like Peterhead or Fraserburgh would be allocated a quota and local people would decide how to fish it.The scheme is a variation on the local management committees already being established by the European Union.\n",
      "Details are contained in a Royal Commission report for the UK Government, along with the more controversial idea of closing some mixed fishing grounds completely.Six members of the committee will be in Scotland to seek views from fishermen and processors in Aberdeen and Peterhead.They will also speak to Mr Finnie, representatives of the Royal Society and the Sea Fish Industry Authority.Committee chairman Austin Mitchell said some way has to be found of harvesting mixed fisheries without wasting stocks.\n",
      "---------------------------------------\n",
      "Sumarizarea produse de TF-IDF, cu unigrame, doar substantive, similaritate cu title, pozitia in text:\n",
      "MPs assess Scots fishing industry\n",
      "A group of MPs are on a two-day fact-finding mission to Scotland to gather evidence for a report into the UK's fishing industry.Members of Westminster's environment, food and rural affairs committee will be touring fish markets and talking to fish processors.They will also talk to Fisheries Minister Ross Finnie and scientists.MPs are deciding whether to recommend a new system of \"community quotas\" to conserve fish stocks.The aim is that fishing ports like Peterhead or Fraserburgh would be allocated a quota and local people would decide how to fish it.The scheme is a variation on the local management committees already being established by the European Union.\n",
      "Details are contained in a Royal Commission report for the UK Government, along with the more controversial idea of closing some mixed fishing grounds completely.Six members of the committee will be in Scotland to seek views from fishermen and processors in Aberdeen and Peterhead.They will also speak to Mr Finnie, representatives of the Royal Society and the Sea Fish Industry Authority.Committee chairman Austin Mitchell said some way has to be found of harvesting mixed fisheries without wasting stocks.\n",
      "---------------------------------------\n",
      "Textul original:\n",
      "b'Lib Dems highlight problem debt\\n\\nPeople vulnerable to problem debts should be afforded greater protection from banks aggressively promoting financial products, the Lib Dems say.\\n\\nVincent Cable says one in eight households already struggle with debt and that will worsen if there is a hike in interest rates or unemployment. The Lib Dems\\' Treasury spokesman is unveiling a policy aimed at the issue. He wants to see \"proper health checks\" when loans are marketed so people know to take out payment protection.\\n\\n\"Were economic conditions to deteriorate at all, large numbers of people could be affected because they have borrowed to the limit,\" Mr Cable told BBC News. \"Banks are very aggressively promoting debt in many cases there is a bigger problem ahead.\" Mr Cable said the government\\'s Consumer Credit Bill would target some of the \"extreme problems\" such as loan sharking, but ministers had been \"a bit complacent\" about the wider issue of debt levels. He said much of the payment protection currently available was \"extremely expensive\" and there were \"lots of exclusions\".\\n\\nMr Cable added that the Office of Fair Trading should investigate the market. Lib Dem leader Charles Kennedy meanwhile is in the middle of a tour of the UK aimed at persuading voters his is the \"real opposition\". Mr Kennedy is visiting a mixture of rural seats, where his party is hoping to make gains from the Conservatives, and urban areas traditionally associated with Labour. Labour say a Lib Dem vote could \"let the Tories in\", while the Tories say the Lib Dems would mean \"higher taxes, soft crime laws, more power to Europe\". Mr Kennedy\\'s tour comes as he, Labour leader Tony Blair and Conservative leader Michael Howard all step up campaigning ahead of the next General Election, widely expected to be held on 5 May.\\n\\nThe Liberal Democrats say in the northern cities, the race is between them and Labour, while in southern seats - particularly the south west - it is between them and the Tories. Speaking to the BBC\\'s Westminster Hour on Sunday, Mr Kennedy said the upcoming general election - widely tipped for 5 May - would be much more unpredictable than any others in \"recent experience\". And he brushed off Labour suggestions a vote for his party would mean letting the Tories in \"by the back door\". \"If you look at the four previous parliamentary by-elections, the Liberal Democrats have demonstrated that, not only can we leapfrog the Conservatives where we start in a third place position, but we can go on to defeat the government. \"That\\'s going to be the story, I think, of this coming general election.\"\\n'\n",
      "---------------------------------------\n",
      "Sumarizarea reala:\n",
      "b'Labour say a Lib Dem vote could \"let the Tories in\", while the Tories say the Lib Dems would mean \"higher taxes, soft crime laws, more power to Europe\".People vulnerable to problem debts should be afforded greater protection from banks aggressively promoting financial products, the Lib Dems say.Speaking to the BBC\\'s Westminster Hour on Sunday, Mr Kennedy said the upcoming general election - widely tipped for 5 May - would be much more unpredictable than any others in \"recent experience\".Mr Cable said the government\\'s Consumer Credit Bill would target some of the \"extreme problems\" such as loan sharking, but ministers had been \"a bit complacent\" about the wider issue of debt levels.Mr Kennedy\\'s tour comes as he, Labour leader Tony Blair and Conservative leader Michael Howard all step up campaigning ahead of the next General Election, widely expected to be held on 5 May.The Liberal Democrats say in the northern cities, the race is between them and Labour, while in southern seats - particularly the south west - it is between them and the Tories.Mr Kennedy is visiting a mixture of rural seats, where his party is hoping to make gains from the Conservatives, and urban areas traditionally associated with Labour.And he brushed off Labour suggestions a vote for his party would mean letting the Tories in \"by the back door\".'\n",
      "---------------------------------------\n",
      "Sumarizarea produse de Bayes, cu bigrame:\n",
      "People vulnerable to problem debts should be afforded greater protection from banks aggressively promoting financial products, the Lib Dems say.\"Were economic conditions to deteriorate at all, large numbers of people could be affected because they have borrowed to the limit,\" Mr Cable told BBC News.Mr Cable said the government's Consumer Credit Bill would target some of the \"extreme problems\" such as loan sharking, but ministers had been \"a bit complacent\" about the wider issue of debt levels.Mr Cable added that the Office of Fair Trading should investigate the market.Mr Kennedy's tour comes as he, Labour leader Tony Blair and Conservative leader Michael Howard all step up campaigning ahead of the next General Election, widely expected to be held on 5 May.\n",
      "The Liberal Democrats say in the northern cities, the race is between them and Labour, while in southern seats - particularly the south west - it is between them and the Tories.Speaking to the BBC's Westminster Hour on Sunday, Mr Kennedy said the upcoming general election - widely tipped for 5 May - would be much more unpredictable than any others in \"recent experience\".\n",
      "---------------------------------------\n",
      "Sumarizarea produse de Bayes, cu bigrame, eliminare de stop words:\n",
      "The Lib Dems' Treasury spokesman is unveiling a policy aimed at the issue.He wants to see \"proper health checks\" when loans are marketed so people know to take out payment protection.\"Were economic conditions to deteriorate at all, large numbers of people could be affected because they have borrowed to the limit,\" Mr Cable told BBC News.Mr Cable said the government's Consumer Credit Bill would target some of the \"extreme problems\" such as loan sharking, but ministers had been \"a bit complacent\" about the wider issue of debt levels.He said much of the payment protection currently available was \"extremely expensive\" and there were \"lots of exclusions\".Mr Cable added that the Office of Fair Trading should investigate the market.Mr Kennedy's tour comes as he, Labour leader Tony Blair and Conservative leader Michael Howard all step up campaigning ahead of the next General Election, widely expected to be held on 5 May.\n",
      "The Liberal Democrats say in the northern cities, the race is between them and Labour, while in southern seats - particularly the south west - it is between them and the Tories.Speaking to the BBC's Westminster Hour on Sunday, Mr Kennedy said the upcoming general election - widely tipped for 5 May - would be much more unpredictable than any others in \"recent experience\".\n",
      "---------------------------------------\n",
      "Sumarizarea produse de Bayes, cu bigrame, eliminare de stop words, lematizare:\n",
      "Vincent Cable says one in eight households already struggle with debt and that will worsen if there is a hike in interest rates or unemployment.The Lib Dems' Treasury spokesman is unveiling a policy aimed at the issue.He wants to see \"proper health checks\" when loans are marketed so people know to take out payment protection.\"Were economic conditions to deteriorate at all, large numbers of people could be affected because they have borrowed to the limit,\" Mr Cable told BBC News.Mr Cable said the government's Consumer Credit Bill would target some of the \"extreme problems\" such as loan sharking, but ministers had been \"a bit complacent\" about the wider issue of debt levels.He said much of the payment protection currently available was \"extremely expensive\" and there were \"lots of exclusions\".Mr Cable added that the Office of Fair Trading should investigate the market.Mr Kennedy's tour comes as he, Labour leader Tony Blair and Conservative leader Michael Howard all step up campaigning ahead of the next General Election, widely expected to be held on 5 May.\n",
      "The Liberal Democrats say in the northern cities, the race is between them and Labour, while in southern seats - particularly the south west - it is between them and the Tories.Speaking to the BBC's Westminster Hour on Sunday, Mr Kennedy said the upcoming general election - widely tipped for 5 May - would be much more unpredictable than any others in \"recent experience\".\n",
      "---------------------------------------\n",
      "Sumarizarea produse de TF-IDF, cu unigrame:\n",
      "Lib Dems highlight problem debt\n",
      "People vulnerable to problem debts should be afforded greater protection from banks aggressively promoting financial products, the Lib Dems say.Vincent Cable says one in eight households already struggle with debt and that will worsen if there is a hike in interest rates or unemployment.The Lib Dems' Treasury spokesman is unveiling a policy aimed at the issue.He wants to see \"proper health checks\" when loans are marketed so people know to take out payment protection.\"Were economic conditions to deteriorate at all, large numbers of people could be affected because they have borrowed to the limit,\" Mr Cable told BBC News.\"Banks are very aggressively promoting debt in many cases there is a bigger problem ahead.\"Mr Cable said the government's Consumer Credit Bill would target some of the \"extreme problems\" such as loan sharking, but ministers had been \"a bit complacent\" about the wider issue of debt levels.He said much of the payment protection currently available was \"extremely expensive\" and there were \"lots of exclusions\".Mr Cable added that the Office of Fair Trading should investigate the market.Lib Dem leader Charles Kennedy meanwhile is in the middle of a tour of the UK aimed at persuading voters his is the \"real opposition\".Mr Kennedy is visiting a mixture of rural seats, where his party is hoping to make gains from the Conservatives, and urban areas traditionally associated with Labour.Labour say a Lib Dem vote could \"let the Tories in\", while the Tories say the Lib Dems would mean \"higher taxes, soft crime laws, more power to Europe\".Mr Kennedy's tour comes as he, Labour leader Tony Blair and Conservative leader Michael Howard all step up campaigning ahead of the next General Election, widely expected to be held on 5 May.\n",
      "The Liberal Democrats say in the northern cities, the race is between them and Labour, while in southern seats - particularly the south west - it is between them and the Tories.Speaking to the BBC's Westminster Hour on Sunday, Mr Kennedy said the upcoming general election - widely tipped for 5 May - would be much more unpredictable than any others in \"recent experience\".And he brushed off Labour suggestions a vote for his party would mean letting the Tories in \"by the back door\".\"If you look at the four previous parliamentary by-elections, the Liberal Democrats have demonstrated that, not only can we leapfrog the Conservatives where we start in a third place position, but we can go on to defeat the government.\"That's going to be the story, I think, of this coming general election.\"\n",
      "\n",
      "---------------------------------------\n",
      "Sumarizarea produse de TF-IDF, cu unigrame, doar substantive:\n",
      "Lib Dems highlight problem debt\n",
      "People vulnerable to problem debts should be afforded greater protection from banks aggressively promoting financial products, the Lib Dems say.Vincent Cable says one in eight households already struggle with debt and that will worsen if there is a hike in interest rates or unemployment.The Lib Dems' Treasury spokesman is unveiling a policy aimed at the issue.He wants to see \"proper health checks\" when loans are marketed so people know to take out payment protection.\"Were economic conditions to deteriorate at all, large numbers of people could be affected because they have borrowed to the limit,\" Mr Cable told BBC News.\"Banks are very aggressively promoting debt in many cases there is a bigger problem ahead.\"Mr Cable said the government's Consumer Credit Bill would target some of the \"extreme problems\" such as loan sharking, but ministers had been \"a bit complacent\" about the wider issue of debt levels.He said much of the payment protection currently available was \"extremely expensive\" and there were \"lots of exclusions\".Mr Cable added that the Office of Fair Trading should investigate the market.Lib Dem leader Charles Kennedy meanwhile is in the middle of a tour of the UK aimed at persuading voters his is the \"real opposition\".Mr Kennedy is visiting a mixture of rural seats, where his party is hoping to make gains from the Conservatives, and urban areas traditionally associated with Labour.Labour say a Lib Dem vote could \"let the Tories in\", while the Tories say the Lib Dems would mean \"higher taxes, soft crime laws, more power to Europe\".Mr Kennedy's tour comes as he, Labour leader Tony Blair and Conservative leader Michael Howard all step up campaigning ahead of the next General Election, widely expected to be held on 5 May.\n",
      "The Liberal Democrats say in the northern cities, the race is between them and Labour, while in southern seats - particularly the south west - it is between them and the Tories.Speaking to the BBC's Westminster Hour on Sunday, Mr Kennedy said the upcoming general election - widely tipped for 5 May - would be much more unpredictable than any others in \"recent experience\".And he brushed off Labour suggestions a vote for his party would mean letting the Tories in \"by the back door\".\"If you look at the four previous parliamentary by-elections, the Liberal Democrats have demonstrated that, not only can we leapfrog the Conservatives where we start in a third place position, but we can go on to defeat the government.\"That's going to be the story, I think, of this coming general election.\"\n",
      "\n",
      "---------------------------------------\n",
      "Sumarizarea produse de TF-IDF, cu unigrame, doar substantive, similaritate cu titlu:\n",
      "Lib Dems highlight problem debt\n",
      "People vulnerable to problem debts should be afforded greater protection from banks aggressively promoting financial products, the Lib Dems say.Vincent Cable says one in eight households already struggle with debt and that will worsen if there is a hike in interest rates or unemployment.The Lib Dems' Treasury spokesman is unveiling a policy aimed at the issue.He wants to see \"proper health checks\" when loans are marketed so people know to take out payment protection.\"Were economic conditions to deteriorate at all, large numbers of people could be affected because they have borrowed to the limit,\" Mr Cable told BBC News.\"Banks are very aggressively promoting debt in many cases there is a bigger problem ahead.\"Mr Cable said the government's Consumer Credit Bill would target some of the \"extreme problems\" such as loan sharking, but ministers had been \"a bit complacent\" about the wider issue of debt levels.He said much of the payment protection currently available was \"extremely expensive\" and there were \"lots of exclusions\".Mr Cable added that the Office of Fair Trading should investigate the market.Lib Dem leader Charles Kennedy meanwhile is in the middle of a tour of the UK aimed at persuading voters his is the \"real opposition\".Mr Kennedy is visiting a mixture of rural seats, where his party is hoping to make gains from the Conservatives, and urban areas traditionally associated with Labour.Labour say a Lib Dem vote could \"let the Tories in\", while the Tories say the Lib Dems would mean \"higher taxes, soft crime laws, more power to Europe\".Mr Kennedy's tour comes as he, Labour leader Tony Blair and Conservative leader Michael Howard all step up campaigning ahead of the next General Election, widely expected to be held on 5 May.\n",
      "The Liberal Democrats say in the northern cities, the race is between them and Labour, while in southern seats - particularly the south west - it is between them and the Tories.Speaking to the BBC's Westminster Hour on Sunday, Mr Kennedy said the upcoming general election - widely tipped for 5 May - would be much more unpredictable than any others in \"recent experience\".And he brushed off Labour suggestions a vote for his party would mean letting the Tories in \"by the back door\".\"If you look at the four previous parliamentary by-elections, the Liberal Democrats have demonstrated that, not only can we leapfrog the Conservatives where we start in a third place position, but we can go on to defeat the government.\"That's going to be the story, I think, of this coming general election.\"\n",
      "\n",
      "---------------------------------------\n",
      "Sumarizarea produse de TF-IDF, cu unigrame, doar substantive, similaritate cu title, pozitia in text:\n",
      "Lib Dems highlight problem debt\n",
      "People vulnerable to problem debts should be afforded greater protection from banks aggressively promoting financial products, the Lib Dems say.Vincent Cable says one in eight households already struggle with debt and that will worsen if there is a hike in interest rates or unemployment.The Lib Dems' Treasury spokesman is unveiling a policy aimed at the issue.He wants to see \"proper health checks\" when loans are marketed so people know to take out payment protection.\"Were economic conditions to deteriorate at all, large numbers of people could be affected because they have borrowed to the limit,\" Mr Cable told BBC News.\"Banks are very aggressively promoting debt in many cases there is a bigger problem ahead.\"Mr Cable said the government's Consumer Credit Bill would target some of the \"extreme problems\" such as loan sharking, but ministers had been \"a bit complacent\" about the wider issue of debt levels.He said much of the payment protection currently available was \"extremely expensive\" and there were \"lots of exclusions\".Mr Cable added that the Office of Fair Trading should investigate the market.Lib Dem leader Charles Kennedy meanwhile is in the middle of a tour of the UK aimed at persuading voters his is the \"real opposition\".Mr Kennedy is visiting a mixture of rural seats, where his party is hoping to make gains from the Conservatives, and urban areas traditionally associated with Labour.Labour say a Lib Dem vote could \"let the Tories in\", while the Tories say the Lib Dems would mean \"higher taxes, soft crime laws, more power to Europe\".Mr Kennedy's tour comes as he, Labour leader Tony Blair and Conservative leader Michael Howard all step up campaigning ahead of the next General Election, widely expected to be held on 5 May.\n",
      "The Liberal Democrats say in the northern cities, the race is between them and Labour, while in southern seats - particularly the south west - it is between them and the Tories.Speaking to the BBC's Westminster Hour on Sunday, Mr Kennedy said the upcoming general election - widely tipped for 5 May - would be much more unpredictable than any others in \"recent experience\".And he brushed off Labour suggestions a vote for his party would mean letting the Tories in \"by the back door\".\"If you look at the four previous parliamentary by-elections, the Liberal Democrats have demonstrated that, not only can we leapfrog the Conservatives where we start in a third place position, but we can go on to defeat the government.\"That's going to be the story, I think, of this coming general election.\"\n",
      "\n",
      "---------------------------------------\n"
     ]
    }
   ],
   "source": [
    "print(\"Pentru 3 exemple din setul de test\")\n",
    "print(\"---------------------------------------\")\n",
    "\n",
    "for i in range(0, 3):\n",
    "    print(\"Textul original:\")\n",
    "    with zipFile.open(news_test[POLITICS][i]) as f:\n",
    "        print(f.read())\n",
    "    print(\"---------------------------------------\")\n",
    "    \n",
    "    print(\"Sumarizarea reala:\")\n",
    "    with zipFile.open(summaries_test[POLITICS][i]) as f:\n",
    "        print(f.read())\n",
    "    print(\"---------------------------------------\")\n",
    "    \n",
    "    print(\"Sumarizarea produse de Bayes, cu bigrame:\")\n",
    "    print(summarize_bayes(training_bayes_1[POLITICS], news_test[POLITICS][i], 2, False, False)[0])\n",
    "    print(\"---------------------------------------\")\n",
    "    \n",
    "    print(\"Sumarizarea produse de Bayes, cu bigrame, eliminare de stop words:\")\n",
    "    print(summarize_bayes(training_bayes_2[POLITICS], news_test[POLITICS][i], 2, True, False)[0])\n",
    "    print(\"---------------------------------------\")\n",
    "    \n",
    "    print(\"Sumarizarea produse de Bayes, cu bigrame, eliminare de stop words, lematizare:\")\n",
    "    print(summarize_bayes(training_bayes_3[POLITICS], news_test[POLITICS][i], 2, True, True)[0])\n",
    "    print(\"---------------------------------------\")\n",
    "    \n",
    "    print(\"Sumarizarea produse de TF-IDF, cu unigrame:\")\n",
    "    print(summarize_tfidf(training_tfidf_1[POLITICS], news_test[POLITICS][i], 2, False, False, False)[0])\n",
    "    print(\"---------------------------------------\")\n",
    "    \n",
    "    print(\"Sumarizarea produse de TF-IDF, cu unigrame, doar substantive:\")\n",
    "    print(summarize_tfidf(training_tfidf_1[POLITICS], news_test[POLITICS][i], 2, True, False, False)[0])\n",
    "    print(\"---------------------------------------\")\n",
    "    \n",
    "    print(\"Sumarizarea produse de TF-IDF, cu unigrame, doar substantive, similaritate cu titlu:\")\n",
    "    print(summarize_tfidf(training_tfidf_1[POLITICS], news_test[POLITICS][i], 2, True, True, False)[0])\n",
    "    print(\"---------------------------------------\")\n",
    "    \n",
    "    print(\"Sumarizarea produse de TF-IDF, cu unigrame, doar substantive, similaritate cu title, pozitia in text:\")\n",
    "    print(summarize_tfidf(training_tfidf_1[POLITICS], news_test[POLITICS][i], 2, True, False, False)[0])\n",
    "    print(\"---------------------------------------\")"
   ]
  },
  {
   "cell_type": "markdown",
   "id": "9904f63b",
   "metadata": {},
   "source": [
    "- Pentru primul exemplu eliminarea de stop words si lematizarea duce la o sumarizare mai scurta si mai buna.\n",
    "- Numarul de propozitii pentru TF-IDF e prea mare."
   ]
  },
  {
   "cell_type": "markdown",
   "id": "813cd2ca",
   "metadata": {},
   "source": [
    "## Imbunatatire TF-IDF - k mai mic si eliminarea titlului"
   ]
  },
  {
   "cell_type": "code",
   "execution_count": 296,
   "id": "564e4eaa",
   "metadata": {},
   "outputs": [
    {
     "name": "stdout",
     "output_type": "stream",
     "text": [
      "Result(model='TF-IDF cu folosirea unui scor minim', blue=0.65, rouge=0.43)\n"
     ]
    },
    {
     "data": {
      "image/png": "[encoded data removed]",
      "text/plain": [
       "<Figure size 720x360 with 1 Axes>"
      ]
     },
     "metadata": {
      "needs_background": "light"
     },
     "output_type": "display_data"
    }
   ],
   "source": [
    "bonus_results = Result(\"TF-IDF cu folosirea unui scor minim\",\n",
    "                      *train_and_evaluate_tfidf(1, True, True, True))\n",
    "print(bonus_results)\n",
    "plot_bars(\"Imbunatatire TF-IDF\", [results[9+3], bonus_results])"
   ]
  },
  {
   "cell_type": "markdown",
   "id": "60dd1044",
   "metadata": {},
   "source": [
    "- Recall mai mic (ne asteptam pt. ca am scazut nr. de propozitii).\n",
    "- Precizie un pic crescuta."
   ]
  },
  {
   "cell_type": "code",
   "execution_count": null,
   "id": "7a5b8b01",
   "metadata": {},
   "outputs": [],
   "source": []
  }
 ],
 "metadata": {
  "kernelspec": {
   "display_name": "Python 3 (ipykernel)",
   "language": "python",
   "name": "python3"
  },
  "language_info": {
   "codemirror_mode": {
    "name": "ipython",
    "version": 3
   },
   "file_extension": ".py",
   "mimetype": "text/x-python",
   "name": "python",
   "nbconvert_exporter": "python",
   "pygments_lexer": "ipython3",
   "version": "3.9.0"
  }
 },
 "nbformat": 4,
 "nbformat_minor": 5
}
